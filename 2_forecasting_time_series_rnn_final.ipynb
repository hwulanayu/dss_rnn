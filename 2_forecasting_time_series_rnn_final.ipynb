{
 "cells": [
  {
   "cell_type": "markdown",
   "metadata": {},
   "source": [
    "<img src=\"assets/logo.png\" width=\"150\">\n",
    "<br>\n",
    "\n",
    "**Coursebook: Forecasting Mobile Network (Internet) Traffic with Recurrent Neural Network (RNN)**\n",
    "\n",
    "- Course Length: 6 Hours\n",
    "- Last Update: September 2022\n",
    "\n",
    "___\n",
    "\n",
    "Developed by Wulan\n",
    "\n",
    "\n"
   ]
  },
  {
   "cell_type": "markdown",
   "metadata": {},
   "source": [
    "The coursebook is  prepared by [Algoritma](https://algorit.ma). The coursebook is intended for a restricted audience only, i.e. the individuals and organizations having received this coursebook directly from the training organization. It may not be reproduced, distributed, translated or adapted in any form outside these individuals and organizations without permission.\n",
    "\n",
    "Algoritma is a data science education center based in Jakarta. We organize workshops and training programs to help working professionals and students gain mastery in various data science sub-fields: data visualization, machine learning, data modeling, statistical inference etc."
   ]
  },
  {
   "cell_type": "markdown",
   "metadata": {},
   "source": [
    "## Training Objective\n",
    "\n",
    "The objective of this course is to provide participants with a comprehensive introduction to understanding deep learning model building for sequential data using Python. We will learn techniques on how to process sequential data to obtain a deep learning model. Syllabus includes:\n",
    "\n",
    "- **Recurrent Neural Networks:**\n",
    "    + Sequence Models\n",
    "    + Vanilla RNN\n",
    "    + Long Short-Term Memory (LSTM)\n",
    "    + Bidirectional and Deep RNN\n",
    "\n",
    "- **Case Study: Forecasting Mobile Network (Internet) Traffic**\n",
    "    + Time series Forecasting\n",
    "    + Visualize the time series\n",
    "    + Training with validation: define the architecture, compile the model, model fitting and evaluation\n",
    "    + Testing on unseen data\n"
   ]
  },
  {
   "cell_type": "markdown",
   "metadata": {},
   "source": [
    "___"
   ]
  },
  {
   "cell_type": "markdown",
   "metadata": {},
   "source": [
    "# Libraries"
   ]
  },
  {
   "cell_type": "code",
   "execution_count": 1,
   "metadata": {},
   "outputs": [],
   "source": [
    "# data analysis\n",
    "import numpy as np\n",
    "import pandas as pd\n",
    "\n",
    "# data visualization\n",
    "import matplotlib.pyplot as plt\n",
    "import seaborn as sns\n",
    "\n",
    "# modeling\n",
    "import tensorflow as tf\n",
    "import tensorflow.keras as keras\n",
    "\n",
    "# set seed\n",
    "import random\n",
    "random.seed(123)\n",
    "np.random.seed(123)\n",
    "tf.random.set_seed(123)"
   ]
  },
  {
   "cell_type": "markdown",
   "metadata": {},
   "source": [
    "___"
   ]
  },
  {
   "cell_type": "markdown",
   "metadata": {},
   "source": [
    "# Introduction to RNN"
   ]
  },
  {
   "cell_type": "markdown",
   "metadata": {},
   "source": [
    "Ordinary FNN (Feedforward Neural Network) are only meant for data points/tabular data independent of each other. However, suppose we have data in a sequence such that **one data point depends upon the previous one**. In that case, we need to modify the neural network to incorporate the dependencies between these data points. \n",
    "\n",
    "Simply put, sequence data is any data where the order matters. We often encounter several sequential data in everyday life, such as news text data, audio music, weather forecasts, sensors, stock prices, etc. Sequential data processing as above is not suitable to be carried out with feed-forward models that we are familiar with, such as linear models, multi-layer perceptrons, and CNNs. The main obstacles are:\n",
    "\n",
    "- these models have no 'memory', models will process each sample the same way without considering the previous samples.\n",
    "- these models assume IID (independent and identically distributed) data, which sequential data cannot fulfill because one sample is closely dependent on other samples.\n",
    "- these models process input with a fixed input length, whereas sequential data has an indefinite length.\n",
    "- these models cannot know the correlation between the previous input to the following input"
   ]
  },
  {
   "cell_type": "markdown",
   "metadata": {},
   "source": [
    "## How RNN Works"
   ]
  },
  {
   "cell_type": "markdown",
   "metadata": {},
   "source": [
    "A recurrent neural network or RNN is a neural network which maps from an input space of sequences to an output space of sequences in a stateful way. That is, **the prediction of output $y_t$ depends not only on the input $x_t$, but also on the hidden state of the system, $h_t$, which gets updated over time, as the sequence is processed** (Murphy, 2021). In short, Recurrent Neural Networks use their reasoning from previous experiences to inform the upcoming events.\n",
    "\n",
    "<figure>\n",
    "    <center>\n",
    "    <img src=\"assets/RNN-rolled.png\" width=\"12%\">\n",
    "     <figcaption>Rolled RNN Structure</figcaption> \n",
    "    </center>\n",
    "</figure>\n",
    "\n",
    "So, in general, a recurrent neural network has a recurrent core cell. It will take some input x, feed that input into the RNN that has some internal hidden state, and that new input will update the internal hidden state. That **internal hidden state will be then fed back to the model the next time it reads an input.**\n",
    "And frequently, we will want our RNNs to produce some output at every step, so we'll have this pattern where it will read an input, update its hidden state, and then make an output.\n",
    "\n",
    "<figure>\n",
    "    <center>\n",
    "    <img src=\"assets/RNN-unrolled.png\" width=\"70%\">\n",
    "<figcaption>Unrolled RNN Structure</figcaption>\n",
    "<figcaption>Source: https://karpathy.github.io/2015/05/21/rnn-effectiveness/</figcaption>\n",
    "    </center>\n",
    "</figure>"
   ]
  },
  {
   "cell_type": "markdown",
   "metadata": {},
   "source": [
    "## Vanilla RNN Cell"
   ]
  },
  {
   "cell_type": "markdown",
   "metadata": {},
   "source": [
    "Vanilla RNN work by iteratively updating a hidden state. So in the below illustration, we're taking our current input, vector $x_t$, and our previous hidden state, vector $h_{t-1}$, and then we stack them. We perform matrix multiplication with our weight matrix, and then squash that output through a **tanh activation function** and that will give us our next hidden state.\n",
    "\n",
    "<figure>\n",
    "    <center>\n",
    "    <img src=\"assets/LSTM3-SimpleRNN.png\" width=\"70%\">\n",
    "<!--     <figcaption>Source: http://colah.github.io/posts/2015-08-Understanding-LSTMs/</figcaption> -->\n",
    "    </center>\n",
    "</figure>\n",
    "\n",
    "$$\\large h_t = tanh(W_{hh} h_{t-1} + W_{xh} x_t) $$\n",
    "\n",
    "$$\\large y_t =  W_{hy} h_t$$\n",
    "\n",
    "Note:\n",
    "- $W_{hh}$: weight matrix from hidden to hidden layer\n",
    "- $W_{xh}$: weight matrix from input to hidden layer\n",
    "- $y_t$   : output vector\n",
    "- $W_{hy}$: weight matrix from hidden to output layer"
   ]
  },
  {
   "cell_type": "markdown",
   "metadata": {},
   "source": [
    "## Types of RNN"
   ]
  },
  {
   "cell_type": "markdown",
   "metadata": {},
   "source": [
    "<figure>\n",
    "    <center>\n",
    "    <img src=\"assets/rnn_input_output.jpeg\" width=\"70%\">\n",
    "<figcaption>Types of RNN Architecture</figcaption> \n",
    "<figcaption>Source: https://karpathy.github.io/2015/05/21/rnn-effectiveness/</figcaption> \n",
    "    </center>\n",
    "</figure>\n",
    "\n",
    "Each rectangle is a vector and arrows represent functions (e.g. matrix multiply). Input vectors are in red, output vectors are in blue and green vectors hold the RNN's state. From left to right:\n",
    "\n",
    "- (1) One-to-one: Vanilla mode of processing without RNN, from fixed-sized input to fixed-sized output (e.g. image classification).\n",
    "- (2) One-to-many: Sequence output (e.g. image captioning takes an image and outputs a sentence of words).\n",
    "- (3) Many-to-one: Sequence input (e.g. sentiment analysis where a given sentence is classified as expressing positive or negative sentiment).\n",
    "- (4) Many-to-many: Sequence input and sequence output (e.g. Machine Translation: an RNN reads a sentence in English and then outputs a sentence in French).\n",
    "- (5) Many-to-many: Synced sequence input and output (e.g. video classification where we wish to label each frame of the video).\n",
    "\n",
    "Notice that in every case are no pre-specified constraints on the lengths sequences because the recurrent transformation (green) is fixed and can be applied as many times as we like."
   ]
  },
  {
   "cell_type": "markdown",
   "metadata": {},
   "source": [
    "___"
   ]
  },
  {
   "cell_type": "markdown",
   "metadata": {},
   "source": [
    "# RNN for Time Series Forecasting"
   ]
  },
  {
   "cell_type": "markdown",
   "metadata": {},
   "source": [
    "## **1. Generating sample time series dataset**\n",
    "\n",
    "For now, we'll generate time series containing 1000 numbers with seasonality following the sin wave."
   ]
  },
  {
   "cell_type": "code",
   "execution_count": 2,
   "metadata": {},
   "outputs": [
    {
     "data": {
      "image/png": "[encoded data removed]",
      "text/plain": [
       "<Figure size 432x288 with 1 Axes>"
      ]
     },
     "metadata": {
      "needs_background": "light"
     },
     "output_type": "display_data"
    }
   ],
   "source": [
    "# generate random data\n",
    "N = 1000 # number of data\n",
    "t = np.arange(0, N) # time index\n",
    "x = np.sin(0.075*t) + np.cos(0.005*t) + 0.002*t + np.random.rand(N) # univariate time series\n",
    "df = pd.DataFrame({'Actual': x})\n",
    "\n",
    "# plot the data\n",
    "plt.plot(df, color=\"black\")\n",
    "plt.show()"
   ]
  },
  {
   "cell_type": "markdown",
   "metadata": {},
   "source": [
    "**🔎 Knowledge Check**\n",
    "\n",
    "- Type of the time series: single univariate time series\n",
    "- How is the trend and seasonality? ...\n",
    "    - trend: pola umum data -> trendnya turun sampai 500, lalu naik sampai akhir/1000\n",
    "    - seasonality: pola berulang/season -> seasonalitynya ada, sepertinya sekitar periode 100 akan berulang 1 pola yg sama"
   ]
  },
  {
   "cell_type": "markdown",
   "metadata": {},
   "source": [
    "> eksplorasi data time series lebih lanjut: **time series decomposition**"
   ]
  },
  {
   "cell_type": "markdown",
   "metadata": {},
   "source": [
    "## **2. Train-test splitting**\n",
    "\n",
    "In machine learning, train/test split splits the data randomly, as there's no dependence from one observation to the other. That's not the case with time series data. Here, you'll want to use `shuffle=False` so that the values at the rear of the dataset for testing and everything else for training."
   ]
  },
  {
   "cell_type": "code",
   "execution_count": 3,
   "metadata": {},
   "outputs": [
    {
     "name": "stdout",
     "output_type": "stream",
     "text": [
      "TRAIN SHAPE:\t (800, 1)\n",
      "TEST SHAPE:\t (200, 1)\n"
     ]
    }
   ],
   "source": [
    "from sklearn.model_selection import train_test_split\n",
    "\n",
    "df_train, df_test = train_test_split(df, test_size=0.2, shuffle=False)\n",
    "train, test = df_train.values, df_test.values # dataframe to array\n",
    "print(\"TRAIN SHAPE:\\t\", train.shape)\n",
    "print(\"TEST SHAPE:\\t\", test.shape)"
   ]
  },
  {
   "cell_type": "markdown",
   "metadata": {},
   "source": [
    "Alternatively, you can do train-test split manually without using `sklearn`:\n",
    "\n",
    "```{python}\n",
    "train, test = x[:800], x[800:]\n",
    "```"
   ]
  },
  {
   "cell_type": "code",
   "execution_count": 4,
   "metadata": {},
   "outputs": [
    {
     "data": {
      "text/plain": [
       "<matplotlib.legend.Legend at 0x15c1e532640>"
      ]
     },
     "execution_count": 4,
     "metadata": {},
     "output_type": "execute_result"
    },
    {
     "data": {
      "image/png": "[encoded data removed]",
      "text/plain": [
       "<Figure size 432x288 with 1 Axes>"
      ]
     },
     "metadata": {
      "needs_background": "light"
     },
     "output_type": "display_data"
    }
   ],
   "source": [
    "# visualize the dataframe after train-test split\n",
    "plt.plot(df_train, label=\"Train\", color=\"black\")\n",
    "plt.plot(df_test, label=\"Test\", color=\"hotpink\")\n",
    "plt.legend()"
   ]
  },
  {
   "cell_type": "markdown",
   "metadata": {},
   "source": [
    "## **3. Generate feature and target variable**\n",
    "\n",
    "Time series data must be transformed into a structure of samples with input and output components before it can be used to fit a supervised learning model. This can be challenging if you have to perform this transformation manually. The Keras deep learning library provides the [`TimeseriesGenerator`](https://www.tensorflow.org/api_docs/python/tf/keras/preprocessing/sequence/TimeseriesGenerator) to automatically transform both univariate and multivariate time series data into samples, ready to train deep learning models.\n",
    "\n",
    "In addition to specifying the input and output aspects of your time series problem, there are some additional parameters that you should configure; for example:\n",
    "\n",
    "- `length`: The number of lag observations to use in the input portion of each sample.\n",
    "- `batch_size`: The number of samples to return on each iteration."
   ]
  },
  {
   "cell_type": "markdown",
   "metadata": {},
   "source": [
    "Let's see an example:\n",
    "\n",
    "$x$ has the following sequence data.\n",
    "$x = \\begin{bmatrix}\n",
    "1 & 2 & 3 & 4 & 5 & 6 & 7 & 8 & 9 & 10\n",
    "\\end{bmatrix}$\n",
    "\n",
    "For `length=1`, $x$ (left) input and its $y$ (right) prediction become:\n",
    "$\\begin{bmatrix}\n",
    "1\\\\ \n",
    "2\\\\ \n",
    "3\\\\ \n",
    "4\\\\ \n",
    "..\\\\ \n",
    "9\n",
    "\\end{bmatrix} \\begin{bmatrix}\n",
    "2\\\\ \n",
    "3\\\\ \n",
    "4\\\\ \n",
    "5\\\\ \n",
    "..\\\\ \n",
    "10\n",
    "\\end{bmatrix}$\n",
    "\n",
    "For `length=3`, $x$ and $y$ contain:\n",
    "$\\begin{bmatrix}\n",
    "1 & 2 & 3\\\\ \n",
    "2 & 3 & 4\\\\ \n",
    "3 & 4 & 5\\\\ \n",
    "4 & 5 & 6\\\\ \n",
    ".. & .. & ..\\\\ \n",
    "7 & 8 & 9\n",
    "\\end{bmatrix}\\begin{bmatrix}\n",
    "4\\\\ \n",
    "5\\\\ \n",
    "6\\\\ \n",
    "7\\\\ \n",
    "..\\\\ \n",
    "10\n",
    "\\end{bmatrix}$\n",
    "\n",
    "As you have noticed the sizes of x input and y output become different."
   ]
  },
  {
   "cell_type": "code",
   "execution_count": 6,
   "metadata": {},
   "outputs": [],
   "source": [
    "from keras.preprocessing.sequence import TimeseriesGenerator"
   ]
  },
  {
   "cell_type": "code",
   "execution_count": 9,
   "metadata": {},
   "outputs": [
    {
     "name": "stdout",
     "output_type": "stream",
     "text": [
      "FEATURE:\n",
      " [[1 2 3]] \tTARGET: [4]\n",
      "\n",
      "FEATURE:\n",
      " [[2 3 4]] \tTARGET: [5]\n",
      "\n",
      "FEATURE:\n",
      " [[3 4 5]] \tTARGET: [6]\n",
      "\n",
      "FEATURE:\n",
      " [[4 5 6]] \tTARGET: [7]\n",
      "\n",
      "FEATURE:\n",
      " [[5 6 7]] \tTARGET: [8]\n",
      "\n",
      "FEATURE:\n",
      " [[6 7 8]] \tTARGET: [9]\n",
      "\n",
      "FEATURE:\n",
      " [[7 8 9]] \tTARGET: [10]\n",
      "\n"
     ]
    }
   ],
   "source": [
    "# for illustration purpose only\n",
    "dummy = [1, 2, 3, 4, 5, 6, 7, 8, 9, 10]\n",
    "dummy_generator = TimeseriesGenerator(data=dummy, targets=dummy, length=3, batch_size=1)\n",
    "\n",
    "# loop\n",
    "for feature, target in dummy_generator:\n",
    "    print(\"FEATURE:\\n\", feature, \"\\tTARGET:\", target)\n",
    "    print()"
   ]
  },
  {
   "cell_type": "markdown",
   "metadata": {},
   "source": [
    "In the cell below, let's generate feature and target for our `train` and `test` data:"
   ]
  },
  {
   "cell_type": "code",
   "execution_count": 11,
   "metadata": {},
   "outputs": [],
   "source": [
    "# your code here\n",
    "\n",
    "# lag predictor\n",
    "look_back = 50\n",
    "\n",
    "# define generator\n",
    "#Pak Christoper\n",
    "train_generator = TimeseriesGenerator(data=train, targets=train, length=look_back, batch_size=1)\n",
    "test_generator = TimeseriesGenerator(data=test, targets=test, length=look_back, batch_size=1)"
   ]
  },
  {
   "cell_type": "markdown",
   "metadata": {},
   "source": [
    "## **4. Fitting RNN model**\n",
    "\n",
    "Next, we create the keras Sequential model. This model is the same as the usual neural network modeling. The difference is that this modeling uses an additional [SimpleRNN layer](https://www.tensorflow.org/api_docs/python/tf/keras/layers/SimpleRNN). We use SimpleRNN layer that is Fully-connected RNN where the output is to be fed back to input."
   ]
  },
  {
   "cell_type": "markdown",
   "metadata": {},
   "source": [
    "> 💡 Important: RNN model requires three-dimensional input data: `(number_of_sequences, look_back, n_features)`"
   ]
  },
  {
   "cell_type": "markdown",
   "metadata": {},
   "source": [
    "- `number_of_sequences`: pasangan feature dan target\n",
    "- `look_back`: berapa banyak prediktor yang digunakan: 50\n",
    "- `n_features`: berapa variabel yang digunakan untuk memprediksi: 1 (univariate)"
   ]
  },
  {
   "cell_type": "code",
   "execution_count": 12,
   "metadata": {},
   "outputs": [
    {
     "name": "stdout",
     "output_type": "stream",
     "text": [
      "Model: \"sequential_1\"\n",
      "_________________________________________________________________\n",
      " Layer (type)                Output Shape              Param #   \n",
      "=================================================================\n",
      " simple_rnn (SimpleRNN)      (None, 64)                4224      \n",
      "                                                                 \n",
      " dense (Dense)               (None, 8)                 520       \n",
      "                                                                 \n",
      " dense_1 (Dense)             (None, 1)                 9         \n",
      "                                                                 \n",
      "=================================================================\n",
      "Total params: 4,753\n",
      "Trainable params: 4,753\n",
      "Non-trainable params: 0\n",
      "_________________________________________________________________\n"
     ]
    }
   ],
   "source": [
    "def init_model_rnn():\n",
    "    # define architecture\n",
    "    model = keras.models.Sequential()\n",
    "    model.add(keras.layers.InputLayer(input_shape= (look_back, 1))) #(look_back, n_features)\n",
    "    model.add(keras.layers.SimpleRNN(units=64, activation='tanh'))\n",
    "    model.add(keras.layers.Dense(units=8, activation='relu'))\n",
    "    model.add(keras.layers.Dense(units=1))\n",
    "    \n",
    "    # model compile\n",
    "    model.compile(optimizer='adam', loss='mean_squared_error')\n",
    "    \n",
    "    return model\n",
    "\n",
    "model_rnn = init_model_rnn()\n",
    "model_rnn.summary()"
   ]
  },
  {
   "cell_type": "markdown",
   "metadata": {},
   "source": [
    "**🔎 Knowledge Check**\n",
    "\n",
    "- How many units should we use in the output layer? 1\n",
    "- Loss function during model compilation: MSE\n",
    "- What type of RNN architecture is it? many-to-one. (digunakan 50 lag predictor untuk memprediksi 1 nilai ke depan)"
   ]
  },
  {
   "cell_type": "code",
   "execution_count": 13,
   "metadata": {},
   "outputs": [
    {
     "name": "stdout",
     "output_type": "stream",
     "text": [
      "Epoch 1/10\n",
      "750/750 [==============================] - 9s 10ms/step - loss: 0.1576\n",
      "Epoch 2/10\n",
      "750/750 [==============================] - 8s 11ms/step - loss: 0.1400\n",
      "Epoch 3/10\n",
      "750/750 [==============================] - 10s 13ms/step - loss: 0.1349\n",
      "Epoch 4/10\n",
      "750/750 [==============================] - 9s 12ms/step - loss: 0.1271\n",
      "Epoch 5/10\n",
      "750/750 [==============================] - 8s 11ms/step - loss: 0.1339\n",
      "Epoch 6/10\n",
      "750/750 [==============================] - 8s 11ms/step - loss: 0.1638\n",
      "Epoch 7/10\n",
      "750/750 [==============================] - 8s 10ms/step - loss: 0.1412\n",
      "Epoch 8/10\n",
      "750/750 [==============================] - 8s 11ms/step - loss: 0.1387\n",
      "Epoch 9/10\n",
      "750/750 [==============================] - 7s 10ms/step - loss: 0.1392\n",
      "Epoch 10/10\n",
      "750/750 [==============================] - 7s 9ms/step - loss: 0.1386\n"
     ]
    },
    {
     "data": {
      "text/plain": [
       "<keras.callbacks.History at 0x15c1b10c1f0>"
      ]
     },
     "execution_count": 13,
     "metadata": {},
     "output_type": "execute_result"
    }
   ],
   "source": [
    "# model fitting\n",
    "model_rnn.fit(train_generator, epochs=10)"
   ]
  },
  {
   "cell_type": "markdown",
   "metadata": {},
   "source": [
    "## **5. Evaluate the model**"
   ]
  },
  {
   "cell_type": "markdown",
   "metadata": {},
   "source": [
    "Loss visualizations can be used with the model.history function."
   ]
  },
  {
   "cell_type": "code",
   "execution_count": 15,
   "metadata": {},
   "outputs": [
    {
     "data": {
      "text/plain": [
       "[0.15761978924274445,\n",
       " 0.14000751078128815,\n",
       " 0.134893998503685,\n",
       " 0.12708066403865814,\n",
       " 0.1338835507631302,\n",
       " 0.16382645070552826,\n",
       " 0.1412268579006195,\n",
       " 0.13866187632083893,\n",
       " 0.13922718167304993,\n",
       " 0.13859723508358002]"
      ]
     },
     "execution_count": 15,
     "metadata": {},
     "output_type": "execute_result"
    }
   ],
   "source": [
    "model_rnn.history.history['loss']"
   ]
  },
  {
   "cell_type": "code",
   "execution_count": 14,
   "metadata": {},
   "outputs": [
    {
     "data": {
      "image/png": "[encoded data removed]",
      "text/plain": [
       "<Figure size 432x288 with 1 Axes>"
      ]
     },
     "metadata": {
      "needs_background": "light"
     },
     "output_type": "display_data"
    }
   ],
   "source": [
    "plt.plot(model_rnn.history.history['loss'], marker='o')\n",
    "plt.show()"
   ]
  },
  {
   "cell_type": "code",
   "execution_count": 16,
   "metadata": {
    "scrolled": true
   },
   "outputs": [
    {
     "name": "stdout",
     "output_type": "stream",
     "text": [
      "750/750 [==============================] - 4s 5ms/step - loss: 0.1306\n",
      "150/150 [==============================] - 1s 5ms/step - loss: 0.2041\n",
      "TRAIN LOSS: 0.1306074857711792\n",
      "TEST LOSS: 0.20408742129802704\n"
     ]
    }
   ],
   "source": [
    "train_loss = model_rnn.evaluate(train_generator)\n",
    "test_loss = model_rnn.evaluate(test_generator)\n",
    "print(\"TRAIN LOSS:\", train_loss)\n",
    "print(\"TEST LOSS:\", test_loss)"
   ]
  },
  {
   "cell_type": "markdown",
   "metadata": {},
   "source": [
    "misalkan kita forecast suatu data dengan satuan dollar.\n",
    "\n",
    "satuan dari loss yang ditampilkan dengan menggunakan mean_squared_error adalah **dollar kuadrat**"
   ]
  },
  {
   "cell_type": "code",
   "execution_count": 19,
   "metadata": {},
   "outputs": [
    {
     "data": {
      "text/plain": [
       "0.3613965768669914"
      ]
     },
     "execution_count": 19,
     "metadata": {},
     "output_type": "execute_result"
    }
   ],
   "source": [
    "from math import sqrt\n",
    "sqrt(train_loss)\n",
    "\n",
    "#root_mean_squared_error"
   ]
  },
  {
   "cell_type": "markdown",
   "metadata": {},
   "source": [
    "We use the fitted model to predict the train and test data, and see how the predicted data align with the actual data."
   ]
  },
  {
   "cell_type": "code",
   "execution_count": 20,
   "metadata": {
    "scrolled": true
   },
   "outputs": [
    {
     "name": "stdout",
     "output_type": "stream",
     "text": [
      "750/750 [==============================] - 3s 4ms/step\n"
     ]
    }
   ],
   "source": [
    "train_predict = model_rnn.predict(train_generator)"
   ]
  },
  {
   "cell_type": "code",
   "execution_count": 21,
   "metadata": {},
   "outputs": [
    {
     "name": "stdout",
     "output_type": "stream",
     "text": [
      "150/150 [==============================] - 1s 4ms/step\n"
     ]
    }
   ],
   "source": [
    "test_predict = model_rnn.predict(test_generator)"
   ]
  },
  {
   "cell_type": "code",
   "execution_count": 22,
   "metadata": {},
   "outputs": [
    {
     "data": {
      "image/png": "[encoded data removed]",
      "text/plain": [
       "<Figure size 432x288 with 1 Axes>"
      ]
     },
     "metadata": {
      "needs_background": "light"
     },
     "output_type": "display_data"
    }
   ],
   "source": [
    "# visualization\n",
    "plt.plot(x, label=\"Actual Data\", color=\"black\")\n",
    "plt.plot(range(look_back, len(train)), train_predict, label=\"Predicted (Train)\", color=\"blue\")\n",
    "plt.plot(range(look_back+len(train), len(x)), test_predict, label=\"Predicted (Test)\", color=\"yellow\")\n",
    "plt.legend(loc=\"upper left\", bbox_to_anchor=(1, 1))\n",
    "plt.show()"
   ]
  },
  {
   "cell_type": "code",
   "execution_count": 23,
   "metadata": {},
   "outputs": [
    {
     "data": {
      "text/plain": [
       "(1000,)"
      ]
     },
     "execution_count": 23,
     "metadata": {},
     "output_type": "execute_result"
    }
   ],
   "source": [
    "x.shape"
   ]
  },
  {
   "cell_type": "code",
   "execution_count": 24,
   "metadata": {},
   "outputs": [
    {
     "data": {
      "text/plain": [
       "(800, 1)"
      ]
     },
     "execution_count": 24,
     "metadata": {},
     "output_type": "execute_result"
    }
   ],
   "source": [
    "train.shape"
   ]
  },
  {
   "cell_type": "code",
   "execution_count": 25,
   "metadata": {},
   "outputs": [
    {
     "data": {
      "text/plain": [
       "(750, 1)"
      ]
     },
     "execution_count": 25,
     "metadata": {},
     "output_type": "execute_result"
    }
   ],
   "source": [
    "train_predict.shape"
   ]
  },
  {
   "cell_type": "markdown",
   "metadata": {},
   "source": [
    "**🔎 Knowledge Check**\n",
    "\n",
    "Why does the length of `train_predict` differs from `train` and `test_predict` differs from `test`?\n",
    "\n",
    "> karena butuh 50 periode data ke belakangnya utk prediksi data ke depan, jadi 50 data pertama belum ada 50. `look_back` = 50"
   ]
  },
  {
   "cell_type": "markdown",
   "metadata": {},
   "source": [
    "## **6. Forecast the next value**\n",
    "\n",
    "From here, we can use the model to forecast the next value (index 1001) by feeding in the **last batch of data**.\n",
    "\n",
    "Don't forget to reshape the data before predicting!\n",
    "`(number_of_sequences, look_back, n_features)`\n"
   ]
  },
  {
   "cell_type": "code",
   "execution_count": 27,
   "metadata": {},
   "outputs": [
    {
     "data": {
      "text/plain": [
       "array([2.86264389, 2.86331746, 3.59679198, 3.11536527, 3.60885888,\n",
       "       2.92692896, 2.75784264, 2.80031183, 2.73213655, 2.96345944,\n",
       "       2.27405991, 2.95838134, 2.54429979, 2.492296  , 2.47316309,\n",
       "       2.37349287, 2.35464481, 2.13704921, 2.17994979, 2.06860339,\n",
       "       2.12182407, 2.16913903, 1.73222188, 1.94829889, 1.98686074,\n",
       "       1.36556746, 1.82978057, 1.51379513, 1.64903725, 2.04601493,\n",
       "       1.52587511, 1.66833017, 1.20076754, 1.4812196 , 1.81422001,\n",
       "       1.49730598, 1.40119773, 1.50488671, 2.19294761, 1.35511855,\n",
       "       1.76670231, 1.40188119, 1.92723687, 1.58441824, 2.12674906,\n",
       "       1.81555446, 2.30448557, 2.02673718, 1.75305535, 2.11600068])"
      ]
     },
     "execution_count": 27,
     "metadata": {},
     "output_type": "execute_result"
    }
   ],
   "source": [
    "x[-50:]"
   ]
  },
  {
   "cell_type": "code",
   "execution_count": 28,
   "metadata": {},
   "outputs": [
    {
     "data": {
      "text/plain": [
       "array([[[2.86264389],\n",
       "        [2.86331746],\n",
       "        [3.59679198],\n",
       "        [3.11536527],\n",
       "        [3.60885888],\n",
       "        [2.92692896],\n",
       "        [2.75784264],\n",
       "        [2.80031183],\n",
       "        [2.73213655],\n",
       "        [2.96345944],\n",
       "        [2.27405991],\n",
       "        [2.95838134],\n",
       "        [2.54429979],\n",
       "        [2.492296  ],\n",
       "        [2.47316309],\n",
       "        [2.37349287],\n",
       "        [2.35464481],\n",
       "        [2.13704921],\n",
       "        [2.17994979],\n",
       "        [2.06860339],\n",
       "        [2.12182407],\n",
       "        [2.16913903],\n",
       "        [1.73222188],\n",
       "        [1.94829889],\n",
       "        [1.98686074],\n",
       "        [1.36556746],\n",
       "        [1.82978057],\n",
       "        [1.51379513],\n",
       "        [1.64903725],\n",
       "        [2.04601493],\n",
       "        [1.52587511],\n",
       "        [1.66833017],\n",
       "        [1.20076754],\n",
       "        [1.4812196 ],\n",
       "        [1.81422001],\n",
       "        [1.49730598],\n",
       "        [1.40119773],\n",
       "        [1.50488671],\n",
       "        [2.19294761],\n",
       "        [1.35511855],\n",
       "        [1.76670231],\n",
       "        [1.40188119],\n",
       "        [1.92723687],\n",
       "        [1.58441824],\n",
       "        [2.12674906],\n",
       "        [1.81555446],\n",
       "        [2.30448557],\n",
       "        [2.02673718],\n",
       "        [1.75305535],\n",
       "        [2.11600068]]])"
      ]
     },
     "execution_count": 28,
     "metadata": {},
     "output_type": "execute_result"
    }
   ],
   "source": [
    "x[-50:].reshape((1, 50, 1))"
   ]
  },
  {
   "cell_type": "code",
   "execution_count": 30,
   "metadata": {},
   "outputs": [
    {
     "name": "stdout",
     "output_type": "stream",
     "text": [
      "1/1 [==============================] - 0s 219ms/step\n"
     ]
    },
    {
     "data": {
      "text/plain": [
       "array([[1.7944992]], dtype=float32)"
      ]
     },
     "execution_count": 30,
     "metadata": {},
     "output_type": "execute_result"
    }
   ],
   "source": [
    "# your code here\n",
    "last_batch = x[-50:].reshape((1, 50, 1))\n",
    "model_rnn.predict(last_batch)"
   ]
  },
  {
   "cell_type": "markdown",
   "metadata": {},
   "source": [
    "> 💡 Notes:\n",
    "> - We can iteratively forecast the next value (for index 1002 onwards) by using the newly predicted value. But for simplicity, let's stop here, we'll discuss about this later.\n",
    "> - Usually in building a good time series forecasting model, if we satisfied with the performance of our model, we re-trained the model from scratch using the whole data but using the same architecture. For instance:\n",
    "\n",
    "```{python}\n",
    "generator_combine = TimeseriesGenerator(data=x, targets=x, length=look_back, batch_size=1)\n",
    "model_combine = init_model_rnn()\n",
    "model_combine.fit(generator_combine, epochs=10)\n",
    "```"
   ]
  },
  {
   "cell_type": "markdown",
   "metadata": {},
   "source": [
    "# 🏄‍ Dive Deeper: Deep RNN (Stacked Layers)\n",
    "\n",
    "\n",
    "RNN and LSTM layers can be stacked in the same way that other layer types can be stacked. Stacking hidden layers makes the model deeper.\n",
    "\n",
    "<figure>\n",
    "    <center>\n",
    "    <img src=\"assets/stacked_rnn.png\" width=\"40%\">\n",
    "    </center>\n",
    "</figure>\n",
    "\n",
    "One addition to the configuration that is required is that the layer prior to each subsequent layer **must return the sequence**. This can be done by setting the parameter **`return_sequences=True`** on the layer. This will return one output for each input time step and provide a 3D array.\n",
    "\n",
    "The input shape for recurrent layers: `(number_of_sequences, time_steps, input_features)`\n",
    "\n",
    "The outputs of the recurrent layers in each case:\n",
    "- If `return_sequences=True`, then `(number_of_sequences, time_steps, output_features)`\n",
    "- If `return_sequences=False`, then `(number_of_sequences, output_features)`\n",
    "\n",
    "<figure>\n",
    "    <center>\n",
    "    <img src=\"assets/return_sequences.jpg\" width=\"30%\">\n",
    "    </center>\n",
    "</figure>\n",
    "\n",
    "> 💡Note: We can continue to add hidden layers as long as the prior layer provides a 3D output as input for the subsequent layer. For further information about `return_sequences` and other parameters in LSTM layer, please refer to its [Official Documentation.](https://keras.io/api/layers/recurrent_layers/lstm/)"
   ]
  },
  {
   "cell_type": "markdown",
   "metadata": {},
   "source": [
    "> **Your main task**: Train a stacked SimpleRNN model (at least 2 stacks) on previous dataset (`train_generator`) and evaluate it also on `test_generator`\n",
    "\n",
    "Example of stacked SimpleRNN model:\n",
    "\n",
    "```{python}\n",
    "[\n",
    "keras.layers.InputLayer(input_shape=___),\n",
    "keras.layers.SimpleRNN(units=___, return_sequences=True),\n",
    "keras.layers.SimpleRNN(units=___, return_sequences=False), # make sure the last stack doesn't return sequences\n",
    "keras.layers.Dense(units=___)\n",
    "]\n",
    "```\n",
    "\n",
    "Remember, you can stack Dense and Dropout layer too"
   ]
  },
  {
   "cell_type": "code",
   "execution_count": null,
   "metadata": {},
   "outputs": [],
   "source": [
    "def init_model_stacked_rnn():\n",
    "    # define architecture\n",
    "    model = keras.models.Sequential([\n",
    "        # input (mandatory)\n",
    "        keras.layers.InputLayer(___),\n",
    "        \n",
    "        # stacked rnn (mandatory)\n",
    "        keras.layers.SimpleRNN(___),\n",
    "        ___,\n",
    "        \n",
    "        # dense (optional)\n",
    "        ___,\n",
    "        \n",
    "        # output (mandatory)\n",
    "        keras.layers.Dense(units=___)\n",
    "    ])\n",
    "    \n",
    "    # model compile\n",
    "    model.compile(___)\n",
    "    \n",
    "    return model\n",
    "    \n",
    "model_stacked_rnn = init_model_stacked_rnn()\n",
    "model_stacked_rnn.summary()"
   ]
  },
  {
   "cell_type": "code",
   "execution_count": null,
   "metadata": {},
   "outputs": [],
   "source": [
    "# fitting model\n",
    "___"
   ]
  },
  {
   "cell_type": "code",
   "execution_count": null,
   "metadata": {},
   "outputs": [],
   "source": [
    "# evaluate train and test loss\n",
    "train_loss = ___\n",
    "test_loss = ___\n",
    "print(\"TRAIN LOSS:\", train_loss)\n",
    "print(\"TEST LOSS:\", test_loss)"
   ]
  },
  {
   "cell_type": "code",
   "execution_count": null,
   "metadata": {},
   "outputs": [],
   "source": [
    "# OPTIONAL: visualization\n",
    "___"
   ]
  },
  {
   "cell_type": "markdown",
   "metadata": {},
   "source": [
    "> 📝 **Make a conclusion**: Based on the train and test loss, is your stacked SimpleRNN better than the one we build together `model_rnn`?\n",
    "> - If yes, explain what do you do to improve the model?\n",
    "> - If no, then why?"
   ]
  },
  {
   "cell_type": "markdown",
   "metadata": {},
   "source": [
    "___"
   ]
  },
  {
   "cell_type": "markdown",
   "metadata": {},
   "source": [
    "# Shortcoming of RNN: Vanishing Gradient Problem"
   ]
  },
  {
   "cell_type": "markdown",
   "metadata": {},
   "source": [
    "RNNs face a **short-term memory** problem, and the **vanishing gradient problem** causes it. As RNN processes more steps, it suffers from vanishing gradient more than other neural network architectures. In RNN, to train the network, you backpropagate through time. At each step, the gradient is calculated. The gradient is used to update weights in the network. If the effect of the previous layer on the current layer is small, then the gradient value will be small and vice-versa. If the gradient of the previous layer is smaller, then the gradient of the current layer will be even smaller. This makes the gradients exponentially shrink down as we backpropagate. A smaller gradient means it will not affect the weight update. Due to this, the network does not learn the effect of earlier inputs. Thus, causing the short-term memory problem.\n",
    "\n",
    "<figure>\n",
    "    <center>\n",
    "    <img src=\"assets/vanishing_gradient.gif\" width=\"30%\">\n",
    "<figcaption>Gradients shrink as it back-propagates through time</figcaption> \n",
    "    </center>\n",
    "</figure>\n",
    "\n",
    "Image Source: [Michael Phi's TDS Medium](https://towardsdatascience.com/illustrated-guide-to-recurrent-neural-networks-79e5eb8049c9)\n",
    "\n",
    "> Imagine that for example a fraction is 1⁄4, multiplied by another fraction such as 1⁄3, then in one operation the value is 1⁄12. Multiplied by other fractions such as 1⁄5, the value becomes 1⁄60, etc. This value will shrink exponentially, and with a small fractional value and many multiplication operations, the value will be close to zero.\n",
    "\n",
    "The main problem is that it’s too difficult for RNN to learn to preserve information over many timesteps. In vanilla RNN the hidden state is consistently being rewritten. To overcome this problem, two specialised versions of RNN were created. They are **LSTM (Long Short Term Memory)** and **GRU (Gated Recurrent Unit)**"
   ]
  },
  {
   "cell_type": "markdown",
   "metadata": {},
   "source": [
    "# LSTM"
   ]
  },
  {
   "cell_type": "markdown",
   "metadata": {},
   "source": [
    "Long Short Term Memory networks are a special kind of RNN, capable of learning **long-term dependencies**. All recurrent neural networks have the form of a chain of repeating modules of neural network. In standard RNNs, this repeating module will have a very simple structure, such as a single tanh layer. LSTMs also have this chain like structure, but the repeating module has a different structure. Instead of having a single neural network layer, there are **four gates**, interacting in a very special way.\n",
    "\n",
    "<figure>\n",
    "    <center>\n",
    "    <img src=\"assets/LSTM3-chain.png\" width=\"70%\">\n",
    "    <figcaption>Source: http://colah.github.io/posts/2015-08-Understanding-LSTMs/</figcaption>\n",
    "    </center>\n",
    "</figure>\n",
    "\n",
    "In the above diagram, each line carries an entire vector, from the output of one node to the inputs of others. The pink circles represent pointwise operations, like vector addition, while the yellow boxes are learned neural network layers. Lines merging denote concatenation, while a line forking denote its content being copied and the copies going to different locations. These cells use the gates to regulate the information to be kept or discarded at loop operation before passing on the long term and short term information to the next cell. We can imagine these gates as filters that remove unwanted selected and irrelevant information."
   ]
  },
  {
   "cell_type": "markdown",
   "metadata": {},
   "source": [
    "Components of LSTM consists of four gates and a hidden state:\n",
    "\n",
    "- **Input Gate ($i$)**: The input gate decides **what information will be stored** in long term memory. It only works with the information from the current input and short term memory from the previous step. At this gate, it filters out the information from variables that are not useful.\n",
    "\n",
    "- **Forget Gate ($f$)**: The forget decides **which information from long term memory be kept or discarded** and this is done by multiplying the incoming long term memory by a forget vector generated by the current input and incoming short memory.\n",
    "\n",
    "- **Output Gate ($o$)**: The output gate will take the current input, the previous short term memory and newly computed long term memory to produce new short term memory which will be passed on to the cell in the next time step. The output of the current time step can also be drawn from this hidden state. Simply put, the output gate **controls how many internal states you want to expose to the network** (higher layer & next time step)\n",
    "\n",
    "- **Candidate Cell State/Gate ($\\widetilde{c}$)**: a “candidate” hidden state that is computed based on the current input and the previous hidden state.\n",
    "\n",
    "- **Hidden State ($h_t$)**: same hidden state that we had in the vanilla RNN."
   ]
  },
  {
   "cell_type": "markdown",
   "metadata": {},
   "source": [
    "When we had this vanilla recurrent neural network, it had a hidden state: $h_t = tanh \\left (W \\binom{h_{t-1}}{x_t}  \\right)$. We used the recurrence relation to update the hidden state at every time step. In an LSTM, we actually have two hidden states at every time step. The basic idea is to partition the hidden state into a long-term part, called a memory cell $c_t$, and a short-term part, denoted $h_t$. First, when we compute new memory cell state, we take our two inputs, concatenate them, multiply them by wight matrix, and compute the new cell state using $i$ gate, $f$ gate, and $\\widetilde{c}$ state. This additive update to the cell state allows long-term information to pass through, without the gradient vanishing. Next we compute the new short term state with $o$ gate and $h_t$ state. Note that $h_t$ is used as the output of the unit as well as the hidden state for the next time step. This lets the model remember what it has just output (short-term memory), whereas the cell $c_t$ acts as a long-term memory.\n",
    "\n",
    "$$\\begin{pmatrix}\n",
    "i\\\\ \n",
    "f\\\\ \n",
    "o\\\\ \n",
    "\\widetilde{c}\n",
    "\\end{pmatrix} = \n",
    "\\begin{pmatrix}\n",
    "\\sigma\\\\ \n",
    "\\sigma\\\\ \n",
    "\\sigma\\\\ \n",
    "\\tanh\n",
    "\\end{pmatrix}\n",
    "W \\binom{h_{t-1}}{x_t}$$\n",
    "\n",
    "$$c_t = f \\odot c_{t-1} + i \\odot \\widetilde{c}$$                 \n",
    "$$h_t = o \\odot tanh (c_t)$$\n",
    "\n",
    "Notice that each of these gates are using a different non linearity. The input, forget and output gate\n",
    "are all using **sigmoid**s, which means that their values will be between zero and one. Whereas the candidate cell state uses a **tanh**, which means its output will be between minus one and one. That is helpful to update or forget data because any number getting multiplied by 0 is 0, causing values to disappears or be “forgotten.” Any number multiplied by 1 is the same value therefore that value stay’s the same or is 'kept.' The network can learn which data is not important therefore can be forgotten or which data is important to keep."
   ]
  },
  {
   "cell_type": "markdown",
   "metadata": {},
   "source": [
    "___"
   ]
  },
  {
   "cell_type": "markdown",
   "metadata": {},
   "source": [
    "# Use Case: Forecasting Mobile Network (Internet) Traffic in Milan"
   ]
  },
  {
   "cell_type": "markdown",
   "metadata": {},
   "source": [
    "**1. Reading datafiles**\n",
    "\n",
    "In this section we will build a forecasting model on mobile data traffic dataset recorded in a real-world network that covers a large city of Milan & Province of Trentino, covering the period of December 2013 based on this [paper](https://www.nature.com/articles/sdata201555). Datasets previously available in [txt format](https://dataverse.harvard.edu/dataset.xhtml?persistentId=doi:10.7910/DVN/EGZHFV), are merged with csv format. The collected data is quite large, so we stored in a pickle file."
   ]
  },
  {
   "cell_type": "code",
   "execution_count": 32,
   "metadata": {},
   "outputs": [
    {
     "data": {
      "text/html": [
       "<div>\n",
       "<style scoped>\n",
       "    .dataframe tbody tr th:only-of-type {\n",
       "        vertical-align: middle;\n",
       "    }\n",
       "\n",
       "    .dataframe tbody tr th {\n",
       "        vertical-align: top;\n",
       "    }\n",
       "\n",
       "    .dataframe thead th {\n",
       "        text-align: right;\n",
       "    }\n",
       "</style>\n",
       "<table border=\"1\" class=\"dataframe\">\n",
       "  <thead>\n",
       "    <tr style=\"text-align: right;\">\n",
       "      <th></th>\n",
       "      <th>squareid</th>\n",
       "      <th>internet</th>\n",
       "      <th>sms</th>\n",
       "      <th>calls</th>\n",
       "    </tr>\n",
       "    <tr>\n",
       "      <th>datetime</th>\n",
       "      <th></th>\n",
       "      <th></th>\n",
       "      <th></th>\n",
       "      <th></th>\n",
       "    </tr>\n",
       "  </thead>\n",
       "  <tbody>\n",
       "    <tr>\n",
       "      <th>2013-12-01 06:00:00</th>\n",
       "      <td>1</td>\n",
       "      <td>77.283683</td>\n",
       "      <td>2.192212</td>\n",
       "      <td>0.819809</td>\n",
       "    </tr>\n",
       "    <tr>\n",
       "      <th>2013-12-01 06:00:00</th>\n",
       "      <td>2</td>\n",
       "      <td>77.465341</td>\n",
       "      <td>2.211839</td>\n",
       "      <td>0.824010</td>\n",
       "    </tr>\n",
       "    <tr>\n",
       "      <th>2013-12-01 06:00:00</th>\n",
       "      <td>3</td>\n",
       "      <td>77.658709</td>\n",
       "      <td>2.232732</td>\n",
       "      <td>0.828482</td>\n",
       "    </tr>\n",
       "    <tr>\n",
       "      <th>2013-12-01 06:00:00</th>\n",
       "      <td>4</td>\n",
       "      <td>76.757508</td>\n",
       "      <td>2.135362</td>\n",
       "      <td>0.807641</td>\n",
       "    </tr>\n",
       "    <tr>\n",
       "      <th>2013-12-01 06:00:00</th>\n",
       "      <td>5</td>\n",
       "      <td>70.700523</td>\n",
       "      <td>2.056988</td>\n",
       "      <td>0.753828</td>\n",
       "    </tr>\n",
       "  </tbody>\n",
       "</table>\n",
       "</div>"
      ],
      "text/plain": [
       "                     squareid   internet       sms     calls\n",
       "datetime                                                    \n",
       "2013-12-01 06:00:00         1  77.283683  2.192212  0.819809\n",
       "2013-12-01 06:00:00         2  77.465341  2.211839  0.824010\n",
       "2013-12-01 06:00:00         3  77.658709  2.232732  0.828482\n",
       "2013-12-01 06:00:00         4  76.757508  2.135362  0.807641\n",
       "2013-12-01 06:00:00         5  70.700523  2.056988  0.753828"
      ]
     },
     "execution_count": 32,
     "metadata": {},
     "output_type": "execute_result"
    }
   ],
   "source": [
    "df_call = pd.read_pickle('data_input/df_call_detail_records_dec_cut.pkl').set_index(['datetime'])\n",
    "df_call.head()"
   ]
  },
  {
   "cell_type": "markdown",
   "metadata": {},
   "source": [
    "> data df_call merupakan multiple (9998 squareid) multivariate (internet, sms, call) time series"
   ]
  },
  {
   "cell_type": "markdown",
   "metadata": {},
   "source": [
    "This dataset serves as measure of the level of interaction between the users and the mobile phone network.\n",
    "\n",
    "- **datetime**: start interval time expressed in milliseconds. The end interval time can be obtained by adding 600,000 milliseconds (10 min) to this value;\n",
    "- **squareid**: identification string of a given square of Milan/Trentino GRID;\n",
    "- **sms**: activity proportional to the amount of received and sent SMSs inside a given Square id and during a given Time interval. The SMSs are received and sent from the nation identified by the Country code;\n",
    "- **call**: activity proportional to the amount of received and issued calls inside the Square id during a given Time interval. The calls are received and issued from the nation identified by the Country code;\n",
    "- **internet**: number of CDRs generated inside a given Square id during a given Time interval. The Internet traffic is initiated from the nation identified by the Country code;\n",
    "    + a CDR is generated each time a user starts an Internet connection or ends an Internet connection. During the same connection, a CDR is generated if the connection lasts for more than 15 min or the user transferred more than 5 MB."
   ]
  },
  {
   "cell_type": "markdown",
   "metadata": {},
   "source": [
    "The dataset consists of 9998 unique `squareid`. Since the dataset is too large and need multiple neural network model to train them, let's us proceed with selected `internet` data in the area with the highest total traffic, which is `squaredid` **5161**"
   ]
  },
  {
   "cell_type": "code",
   "execution_count": 35,
   "metadata": {},
   "outputs": [
    {
     "data": {
      "text/plain": [
       "9998"
      ]
     },
     "execution_count": 35,
     "metadata": {},
     "output_type": "execute_result"
    }
   ],
   "source": [
    "df_call['squareid'].nunique()"
   ]
  },
  {
   "cell_type": "code",
   "execution_count": 33,
   "metadata": {},
   "outputs": [
    {
     "data": {
      "text/plain": [
       "<AxesSubplot:xlabel='datetime'>"
      ]
     },
     "execution_count": 33,
     "metadata": {},
     "output_type": "execute_result"
    },
    {
     "data": {
      "image/png": "[encoded data removed]",
      "text/plain": [
       "<Figure size 432x288 with 1 Axes>"
      ]
     },
     "metadata": {
      "needs_background": "light"
     },
     "output_type": "display_data"
    }
   ],
   "source": [
    "df_5161 = df_call[df_call['squareid'] == 5161][['internet']]\n",
    "df_5161.plot()"
   ]
  },
  {
   "cell_type": "markdown",
   "metadata": {},
   "source": [
    "> 💡 Important: When dealing with time series data, you have to make sure that the data is complete for each timestamp. In case the data is not complete, use `.reindex(complete_date)` to do time series padding."
   ]
  },
  {
   "cell_type": "code",
   "execution_count": 38,
   "metadata": {},
   "outputs": [
    {
     "data": {
      "text/plain": [
       "Series([], dtype: datetime64[ns])"
      ]
     },
     "execution_count": 38,
     "metadata": {},
     "output_type": "execute_result"
    }
   ],
   "source": [
    "# take the index, containing datetime\n",
    "df_5161_date = df_5161.index\n",
    "\n",
    "# make a Series of complete date\n",
    "complete_date = pd.Series(pd.date_range(start=df_5161_date.min(), end=df_5161_date.max(), freq='H'))\n",
    "\n",
    "# compare between complete_date and df_5161_date\n",
    "mask = complete_date.isin(df_5161_date)\n",
    "\n",
    "# print out all skipped datetime\n",
    "# if empty, then you are good to go\n",
    "complete_date[~ mask]"
   ]
  },
  {
   "cell_type": "code",
   "execution_count": 37,
   "metadata": {},
   "outputs": [
    {
     "data": {
      "text/plain": [
       "0     2013-12-01 06:00:00\n",
       "1     2013-12-01 07:00:00\n",
       "2     2013-12-01 08:00:00\n",
       "3     2013-12-01 09:00:00\n",
       "4     2013-12-01 10:00:00\n",
       "              ...        \n",
       "523   2013-12-23 01:00:00\n",
       "524   2013-12-23 02:00:00\n",
       "525   2013-12-23 03:00:00\n",
       "526   2013-12-23 04:00:00\n",
       "527   2013-12-23 05:00:00\n",
       "Length: 528, dtype: datetime64[ns]"
      ]
     },
     "execution_count": 37,
     "metadata": {},
     "output_type": "execute_result"
    }
   ],
   "source": [
    "df_5161_date = df_5161.index\n",
    "pd.Series(pd.date_range(start=df_5161_date.min(), end=df_5161_date.max(), freq='H'))"
   ]
  },
  {
   "cell_type": "markdown",
   "metadata": {},
   "source": [
    "**2. Preprocessing**\n",
    "\n",
    "We want to split the last 7 days for data test. Since the dataset datetime contains the details of the time until the hour (dataset divided by time up to hour detail per observation), we multiply 24 hours with 7 days to get the exact observation. "
   ]
  },
  {
   "cell_type": "code",
   "execution_count": 39,
   "metadata": {},
   "outputs": [],
   "source": [
    "# your code here\n",
    "df_train, df_test = train_test_split(df_5161, test_size=24*7 , shuffle=False)"
   ]
  },
  {
   "cell_type": "markdown",
   "metadata": {},
   "source": [
    "Many machine learning algorithms perform better or converge faster when features are on a relatively similar scale and/or close to normally distributed. **Data scaling is a recommended pre-processing step** when working with deep learning neural networks. Unscaled input variables can result in a slow or unstable learning process, whereas unscaled target variables on regression problems can result in exploding gradients causing the learning process to fail. Scaling preserves the shape of the original distribution. It doesn’t meaningfully change the information embedded in the original data.\n",
    "\n",
    "- `MinMaxScaler` will convert the data ranging from zero to one [0, 1]\n",
    "\n",
    "$$x_{scaled} = \\dfrac{x - x_{min}}{x_{max} - x_{min}}$$\n",
    "\n",
    "- `StandardScaler` will convert the data so that the mean = 0 and standard deviation = 1\n",
    "\n",
    "$$x_{scaled} = \\dfrac{x - mean(x)}{sd(x)}$$\n",
    "\n",
    "> 💡 Important: Fit the scalers to the training data only, not to the full dataset (including the test set). Only then can you use them to transform the training set and the test set (and new data). If you scale the data before train/test split you will get data leakage and could influence prediction accuracy and overfit."
   ]
  },
  {
   "cell_type": "code",
   "execution_count": 40,
   "metadata": {},
   "outputs": [],
   "source": [
    "from sklearn.preprocessing import StandardScaler, MinMaxScaler"
   ]
  },
  {
   "cell_type": "code",
   "execution_count": 41,
   "metadata": {},
   "outputs": [],
   "source": [
    "scaler = MinMaxScaler()\n",
    "scaled_train = scaler.fit_transform(df_train)\n",
    "scaled_test = scaler.transform(df_test)"
   ]
  },
  {
   "cell_type": "markdown",
   "metadata": {},
   "source": [
    "Lastly, we create the `TimeseriesGenerator`, but remember to use the scaled data."
   ]
  },
  {
   "cell_type": "code",
   "execution_count": 42,
   "metadata": {},
   "outputs": [],
   "source": [
    "look_back = 24*5 #lag predictor: untuk memprediksi 1 jam ke depan, melihat pola data 5 hari ke belakang\n",
    "train_gen = TimeseriesGenerator(data=scaled_train, targets=scaled_train, length=look_back, batch_size=1)\n",
    "test_gen = TimeseriesGenerator(data=scaled_test, targets=scaled_test, length=look_back, batch_size=1)"
   ]
  },
  {
   "cell_type": "markdown",
   "metadata": {},
   "source": [
    "**3. Building the model**\n",
    "\n",
    "For this case, we use [LSTM layer](https://www.tensorflow.org/api_docs/python/tf/keras/layers/LSTM) instead of SimpleRNN."
   ]
  },
  {
   "cell_type": "code",
   "execution_count": 43,
   "metadata": {},
   "outputs": [
    {
     "name": "stdout",
     "output_type": "stream",
     "text": [
      "Model: \"sequential_2\"\n",
      "_________________________________________________________________\n",
      " Layer (type)                Output Shape              Param #   \n",
      "=================================================================\n",
      " lstm (LSTM)                 (None, 64)                16896     \n",
      "                                                                 \n",
      " dense_2 (Dense)             (None, 1)                 65        \n",
      "                                                                 \n",
      "=================================================================\n",
      "Total params: 16,961\n",
      "Trainable params: 16,961\n",
      "Non-trainable params: 0\n",
      "_________________________________________________________________\n"
     ]
    }
   ],
   "source": [
    "def init_model_lstm():\n",
    "    # define architecture\n",
    "    model = keras.models.Sequential()\n",
    "    model.add(keras.layers.LSTM(units=64, input_shape=(look_back, 1)))\n",
    "    model.add(keras.layers.Dense(units=1, activation='relu'))\n",
    "    \n",
    "    # model compile\n",
    "    model.compile(optimizer='adam', loss='mean_squared_error')\n",
    "    \n",
    "    return model\n",
    "\n",
    "model_lstm = init_model_lstm()\n",
    "model_lstm.summary()"
   ]
  },
  {
   "cell_type": "code",
   "execution_count": 44,
   "metadata": {},
   "outputs": [
    {
     "name": "stdout",
     "output_type": "stream",
     "text": [
      "Epoch 1/10\n",
      "240/240 [==============================] - 12s 40ms/step - loss: 0.0286\n",
      "Epoch 2/10\n",
      "240/240 [==============================] - 10s 40ms/step - loss: 0.0053\n",
      "Epoch 3/10\n",
      "240/240 [==============================] - 10s 42ms/step - loss: 0.0044\n",
      "Epoch 4/10\n",
      "240/240 [==============================] - 11s 44ms/step - loss: 0.0039\n",
      "Epoch 5/10\n",
      "240/240 [==============================] - 9s 38ms/step - loss: 0.0038\n",
      "Epoch 6/10\n",
      "240/240 [==============================] - 9s 39ms/step - loss: 0.0032\n",
      "Epoch 7/10\n",
      "240/240 [==============================] - 10s 41ms/step - loss: 0.0034\n",
      "Epoch 8/10\n",
      "240/240 [==============================] - 10s 43ms/step - loss: 0.0029\n",
      "Epoch 9/10\n",
      "240/240 [==============================] - 9s 39ms/step - loss: 0.0029\n",
      "Epoch 10/10\n",
      "240/240 [==============================] - 9s 37ms/step - loss: 0.0031\n"
     ]
    },
    {
     "data": {
      "text/plain": [
       "<keras.callbacks.History at 0x15c26b5b6a0>"
      ]
     },
     "execution_count": 44,
     "metadata": {},
     "output_type": "execute_result"
    }
   ],
   "source": [
    "# fitting model\n",
    "model_lstm.fit(train_gen, epochs=10)"
   ]
  },
  {
   "cell_type": "markdown",
   "metadata": {},
   "source": [
    "Visualize the loss per epoch using `matplotlib`:"
   ]
  },
  {
   "cell_type": "code",
   "execution_count": 45,
   "metadata": {},
   "outputs": [
    {
     "data": {
      "image/png": "[encoded data removed]",
      "text/plain": [
       "<Figure size 432x288 with 1 Axes>"
      ]
     },
     "metadata": {
      "needs_background": "light"
     },
     "output_type": "display_data"
    }
   ],
   "source": [
    "plt.plot(model_lstm.history.history['loss'], marker='o')\n",
    "plt.show()"
   ]
  },
  {
   "cell_type": "markdown",
   "metadata": {},
   "source": [
    "**4. Evaluate the model**\n",
    "\n",
    "We can evaluate the model performance on train and test data, but remember, we are fitting the model with scaled data. So we have to **inverse transform** the prediction result in order to get the original range of data."
   ]
  },
  {
   "cell_type": "code",
   "execution_count": 46,
   "metadata": {},
   "outputs": [
    {
     "name": "stdout",
     "output_type": "stream",
     "text": [
      "240/240 [==============================] - 3s 9ms/step\n"
     ]
    },
    {
     "data": {
      "text/plain": [
       "(240, 1)"
      ]
     },
     "execution_count": 46,
     "metadata": {},
     "output_type": "execute_result"
    }
   ],
   "source": [
    "scaled_train_predict = model_lstm.predict(train_gen)\n",
    "train_predict = scaler.inverse_transform(scaled_train_predict)\n",
    "train_predict.shape"
   ]
  },
  {
   "cell_type": "code",
   "execution_count": 47,
   "metadata": {},
   "outputs": [
    {
     "name": "stdout",
     "output_type": "stream",
     "text": [
      "48/48 [==============================] - 0s 9ms/step\n"
     ]
    }
   ],
   "source": [
    "# your code here\n",
    "scaled_test_predict = model_lstm.predict(test_gen)\n",
    "test_predict = scaler.inverse_transform(scaled_test_predict)"
   ]
  },
  {
   "cell_type": "markdown",
   "metadata": {},
   "source": [
    "Now, let's visualize the prediction vs actual result and calculate the root mean squared error (RMSE)."
   ]
  },
  {
   "cell_type": "markdown",
   "metadata": {},
   "source": [
    "**TRAINING DATA**"
   ]
  },
  {
   "cell_type": "code",
   "execution_count": 48,
   "metadata": {},
   "outputs": [
    {
     "data": {
      "text/plain": [
       "<AxesSubplot:xlabel='datetime'>"
      ]
     },
     "execution_count": 48,
     "metadata": {},
     "output_type": "execute_result"
    },
    {
     "data": {
      "image/png": "[encoded data removed]",
      "text/plain": [
       "<Figure size 1008x504 with 1 Axes>"
      ]
     },
     "metadata": {
      "needs_background": "light"
     },
     "output_type": "display_data"
    }
   ],
   "source": [
    "# create numpy array containing nan\n",
    "temp = np.empty((df_train.shape[0], 1))\n",
    "temp[:] = np.nan\n",
    "\n",
    "# fill the array with train_predict\n",
    "temp[-len(train_predict):] = train_predict\n",
    "\n",
    "df_train[\"prediction\"] = temp\n",
    "\n",
    "# visualize\n",
    "df_train.plot(figsize=(14, 7))"
   ]
  },
  {
   "cell_type": "code",
   "execution_count": 49,
   "metadata": {},
   "outputs": [],
   "source": [
    "from sklearn.metrics import mean_squared_error"
   ]
  },
  {
   "cell_type": "code",
   "execution_count": 50,
   "metadata": {},
   "outputs": [
    {
     "data": {
      "text/plain": [
       "1909.0811621360413"
      ]
     },
     "execution_count": 50,
     "metadata": {},
     "output_type": "execute_result"
    }
   ],
   "source": [
    "# TRAIN RMSE\n",
    "df_train = df_train.dropna()\n",
    "mean_squared_error(\n",
    "    y_true=df_train['internet'],\n",
    "    y_pred=df_train['prediction'],\n",
    "    squared=False\n",
    ")"
   ]
  },
  {
   "cell_type": "markdown",
   "metadata": {},
   "source": [
    "**TESTING DATA**"
   ]
  },
  {
   "cell_type": "code",
   "execution_count": 51,
   "metadata": {},
   "outputs": [
    {
     "data": {
      "text/plain": [
       "<AxesSubplot:xlabel='datetime'>"
      ]
     },
     "execution_count": 51,
     "metadata": {},
     "output_type": "execute_result"
    },
    {
     "data": {
      "image/png": "[encoded data removed]",
      "text/plain": [
       "<Figure size 1008x504 with 1 Axes>"
      ]
     },
     "metadata": {
      "needs_background": "light"
     },
     "output_type": "display_data"
    }
   ],
   "source": [
    "# create numpy array containing nan\n",
    "temp = np.empty((df_test.shape[0], 1))\n",
    "temp[:] = np.nan\n",
    "\n",
    "# fill the array with train_predict\n",
    "temp[-len(test_predict):] = test_predict\n",
    "\n",
    "df_test[\"prediction\"] = temp\n",
    "\n",
    "# visualize\n",
    "df_test.plot(figsize=(14, 7))"
   ]
  },
  {
   "cell_type": "code",
   "execution_count": 53,
   "metadata": {},
   "outputs": [
    {
     "data": {
      "text/plain": [
       "2809.036626699898"
      ]
     },
     "execution_count": 53,
     "metadata": {},
     "output_type": "execute_result"
    }
   ],
   "source": [
    "# your code here\n",
    "\n",
    "# TEST RMSE\n",
    "df_test = df_test.dropna()\n",
    "mean_squared_error(\n",
    "    y_true=df_test['internet'],\n",
    "    y_pred=df_test['prediction'],\n",
    "    squared=False #agar mengembalikan root mean squared error\n",
    ")"
   ]
  },
  {
   "cell_type": "markdown",
   "metadata": {},
   "source": [
    "**5. Prediction for future dates**\n",
    "\n",
    "We’ll use our trained model to predict the traffic into the future and inverse the scaled data. The first thing we should do is generate future dates in a dataframe. We purposely create future dates based on the last date in `df_5161` dataset."
   ]
  },
  {
   "cell_type": "code",
   "execution_count": 54,
   "metadata": {},
   "outputs": [],
   "source": [
    "look_ahead = 24*3"
   ]
  },
  {
   "cell_type": "code",
   "execution_count": 55,
   "metadata": {},
   "outputs": [],
   "source": [
    "from pandas.tseries.offsets import DateOffset"
   ]
  },
  {
   "cell_type": "code",
   "execution_count": 57,
   "metadata": {},
   "outputs": [
    {
     "data": {
      "text/plain": [
       "DatetimeIndex(['2013-12-01 06:00:00', '2013-12-01 07:00:00',\n",
       "               '2013-12-01 08:00:00', '2013-12-01 09:00:00',\n",
       "               '2013-12-01 10:00:00', '2013-12-01 11:00:00',\n",
       "               '2013-12-01 12:00:00', '2013-12-01 13:00:00',\n",
       "               '2013-12-01 14:00:00', '2013-12-01 15:00:00',\n",
       "               ...\n",
       "               '2013-12-22 20:00:00', '2013-12-22 21:00:00',\n",
       "               '2013-12-22 22:00:00', '2013-12-22 23:00:00',\n",
       "               '2013-12-23 00:00:00', '2013-12-23 01:00:00',\n",
       "               '2013-12-23 02:00:00', '2013-12-23 03:00:00',\n",
       "               '2013-12-23 04:00:00', '2013-12-23 05:00:00'],\n",
       "              dtype='datetime64[ns]', name='datetime', length=528, freq=None)"
      ]
     },
     "execution_count": 57,
     "metadata": {},
     "output_type": "execute_result"
    }
   ],
   "source": [
    "df_5161.index"
   ]
  },
  {
   "cell_type": "code",
   "execution_count": 56,
   "metadata": {},
   "outputs": [
    {
     "data": {
      "text/html": [
       "<div>\n",
       "<style scoped>\n",
       "    .dataframe tbody tr th:only-of-type {\n",
       "        vertical-align: middle;\n",
       "    }\n",
       "\n",
       "    .dataframe tbody tr th {\n",
       "        vertical-align: top;\n",
       "    }\n",
       "\n",
       "    .dataframe thead th {\n",
       "        text-align: right;\n",
       "    }\n",
       "</style>\n",
       "<table border=\"1\" class=\"dataframe\">\n",
       "  <thead>\n",
       "    <tr style=\"text-align: right;\">\n",
       "      <th></th>\n",
       "    </tr>\n",
       "  </thead>\n",
       "  <tbody>\n",
       "    <tr>\n",
       "      <th>2013-12-23 06:00:00</th>\n",
       "    </tr>\n",
       "    <tr>\n",
       "      <th>2013-12-23 07:00:00</th>\n",
       "    </tr>\n",
       "    <tr>\n",
       "      <th>2013-12-23 08:00:00</th>\n",
       "    </tr>\n",
       "    <tr>\n",
       "      <th>2013-12-23 09:00:00</th>\n",
       "    </tr>\n",
       "    <tr>\n",
       "      <th>2013-12-23 10:00:00</th>\n",
       "    </tr>\n",
       "    <tr>\n",
       "      <th>...</th>\n",
       "    </tr>\n",
       "    <tr>\n",
       "      <th>2013-12-26 01:00:00</th>\n",
       "    </tr>\n",
       "    <tr>\n",
       "      <th>2013-12-26 02:00:00</th>\n",
       "    </tr>\n",
       "    <tr>\n",
       "      <th>2013-12-26 03:00:00</th>\n",
       "    </tr>\n",
       "    <tr>\n",
       "      <th>2013-12-26 04:00:00</th>\n",
       "    </tr>\n",
       "    <tr>\n",
       "      <th>2013-12-26 05:00:00</th>\n",
       "    </tr>\n",
       "  </tbody>\n",
       "</table>\n",
       "<p>72 rows × 0 columns</p>\n",
       "</div>"
      ],
      "text/plain": [
       "Empty DataFrame\n",
       "Columns: []\n",
       "Index: [2013-12-23 06:00:00, 2013-12-23 07:00:00, 2013-12-23 08:00:00, 2013-12-23 09:00:00, 2013-12-23 10:00:00, 2013-12-23 11:00:00, 2013-12-23 12:00:00, 2013-12-23 13:00:00, 2013-12-23 14:00:00, 2013-12-23 15:00:00, 2013-12-23 16:00:00, 2013-12-23 17:00:00, 2013-12-23 18:00:00, 2013-12-23 19:00:00, 2013-12-23 20:00:00, 2013-12-23 21:00:00, 2013-12-23 22:00:00, 2013-12-23 23:00:00, 2013-12-24 00:00:00, 2013-12-24 01:00:00, 2013-12-24 02:00:00, 2013-12-24 03:00:00, 2013-12-24 04:00:00, 2013-12-24 05:00:00, 2013-12-24 06:00:00, 2013-12-24 07:00:00, 2013-12-24 08:00:00, 2013-12-24 09:00:00, 2013-12-24 10:00:00, 2013-12-24 11:00:00, 2013-12-24 12:00:00, 2013-12-24 13:00:00, 2013-12-24 14:00:00, 2013-12-24 15:00:00, 2013-12-24 16:00:00, 2013-12-24 17:00:00, 2013-12-24 18:00:00, 2013-12-24 19:00:00, 2013-12-24 20:00:00, 2013-12-24 21:00:00, 2013-12-24 22:00:00, 2013-12-24 23:00:00, 2013-12-25 00:00:00, 2013-12-25 01:00:00, 2013-12-25 02:00:00, 2013-12-25 03:00:00, 2013-12-25 04:00:00, 2013-12-25 05:00:00, 2013-12-25 06:00:00, 2013-12-25 07:00:00, 2013-12-25 08:00:00, 2013-12-25 09:00:00, 2013-12-25 10:00:00, 2013-12-25 11:00:00, 2013-12-25 12:00:00, 2013-12-25 13:00:00, 2013-12-25 14:00:00, 2013-12-25 15:00:00, 2013-12-25 16:00:00, 2013-12-25 17:00:00, 2013-12-25 18:00:00, 2013-12-25 19:00:00, 2013-12-25 20:00:00, 2013-12-25 21:00:00, 2013-12-25 22:00:00, 2013-12-25 23:00:00, 2013-12-26 00:00:00, 2013-12-26 01:00:00, 2013-12-26 02:00:00, 2013-12-26 03:00:00, 2013-12-26 04:00:00, 2013-12-26 05:00:00]\n",
       "\n",
       "[72 rows x 0 columns]"
      ]
     },
     "execution_count": 56,
     "metadata": {},
     "output_type": "execute_result"
    }
   ],
   "source": [
    "# create future dates\n",
    "add_dates = [df_5161.index[-1] + DateOffset(hours=x) for x in range(look_ahead+1)]\n",
    "future_dates = pd.DataFrame(index=add_dates[1:])\n",
    "future_dates"
   ]
  },
  {
   "cell_type": "markdown",
   "metadata": {},
   "source": [
    "In order to predict future value (after testing data), we have to manually create a loop to feed the network. The steps in function `forecast_future` are:\n",
    "\n",
    "1. Take `look_back` values from the rear of `data` and reshape to 3 dimension\n",
    "2. Feed data from step 1 into the `trained_model`\n",
    "3. Save the prediction to a list\n",
    "4. Use the prediction to update the batch and remove the first value\n",
    "5. Go back to step 2, but with the updated batch"
   ]
  },
  {
   "cell_type": "code",
   "execution_count": 58,
   "metadata": {},
   "outputs": [],
   "source": [
    "def forecast_future(trained_model, data, look_back, n_features, look_ahead):\n",
    "    prediction_list = []\n",
    "    current_batch = data[-look_back:].reshape((1, look_back, n_features))\n",
    "    \n",
    "    for i in range(look_ahead):\n",
    "        # get the prediction value for the first batch\n",
    "        current_pred = trained_model.predict(current_batch)[0]\n",
    "\n",
    "        # append the prediction into the list\n",
    "        prediction_list.append(current_pred)\n",
    "\n",
    "        # use the prediction to update the batch and remove the first value\n",
    "        current_batch = np.append(current_batch[:, 1:, :], [[current_pred]], axis=1)\n",
    "        \n",
    "    return np.array(prediction_list)"
   ]
  },
  {
   "cell_type": "code",
   "execution_count": 59,
   "metadata": {},
   "outputs": [
    {
     "name": "stdout",
     "output_type": "stream",
     "text": [
      "1/1 [==============================] - 1s 567ms/step\n",
      "1/1 [==============================] - 0s 28ms/step\n",
      "1/1 [==============================] - 0s 37ms/step\n",
      "1/1 [==============================] - 0s 29ms/step\n",
      "1/1 [==============================] - 0s 31ms/step\n",
      "1/1 [==============================] - 0s 71ms/step\n",
      "1/1 [==============================] - 0s 30ms/step\n",
      "1/1 [==============================] - 0s 38ms/step\n",
      "1/1 [==============================] - 0s 56ms/step\n",
      "1/1 [==============================] - 0s 33ms/step\n",
      "1/1 [==============================] - 0s 28ms/step\n",
      "1/1 [==============================] - 0s 31ms/step\n",
      "1/1 [==============================] - 0s 66ms/step\n",
      "1/1 [==============================] - 0s 40ms/step\n",
      "1/1 [==============================] - 0s 27ms/step\n",
      "1/1 [==============================] - 0s 27ms/step\n",
      "1/1 [==============================] - 0s 28ms/step\n",
      "1/1 [==============================] - 0s 26ms/step\n",
      "1/1 [==============================] - 0s 29ms/step\n",
      "1/1 [==============================] - 0s 27ms/step\n",
      "1/1 [==============================] - 0s 32ms/step\n",
      "1/1 [==============================] - 0s 27ms/step\n",
      "1/1 [==============================] - 0s 27ms/step\n",
      "1/1 [==============================] - 0s 40ms/step\n",
      "1/1 [==============================] - 0s 29ms/step\n",
      "1/1 [==============================] - 0s 32ms/step\n",
      "1/1 [==============================] - 0s 33ms/step\n",
      "1/1 [==============================] - 0s 28ms/step\n",
      "1/1 [==============================] - 0s 33ms/step\n",
      "1/1 [==============================] - 0s 28ms/step\n",
      "1/1 [==============================] - 0s 28ms/step\n",
      "1/1 [==============================] - 0s 26ms/step\n",
      "1/1 [==============================] - 0s 32ms/step\n",
      "1/1 [==============================] - 0s 27ms/step\n",
      "1/1 [==============================] - 0s 27ms/step\n",
      "1/1 [==============================] - 0s 33ms/step\n",
      "1/1 [==============================] - 0s 26ms/step\n",
      "1/1 [==============================] - 0s 27ms/step\n",
      "1/1 [==============================] - 0s 38ms/step\n",
      "1/1 [==============================] - 0s 27ms/step\n",
      "1/1 [==============================] - 0s 33ms/step\n",
      "1/1 [==============================] - 0s 28ms/step\n",
      "1/1 [==============================] - 0s 27ms/step\n",
      "1/1 [==============================] - 0s 26ms/step\n",
      "1/1 [==============================] - 0s 28ms/step\n",
      "1/1 [==============================] - 0s 30ms/step\n",
      "1/1 [==============================] - 0s 33ms/step\n",
      "1/1 [==============================] - 0s 44ms/step\n",
      "1/1 [==============================] - 0s 35ms/step\n",
      "1/1 [==============================] - 0s 32ms/step\n",
      "1/1 [==============================] - 0s 28ms/step\n",
      "1/1 [==============================] - 0s 32ms/step\n",
      "1/1 [==============================] - 0s 28ms/step\n",
      "1/1 [==============================] - 0s 31ms/step\n",
      "1/1 [==============================] - 0s 30ms/step\n",
      "1/1 [==============================] - 0s 27ms/step\n",
      "1/1 [==============================] - 0s 29ms/step\n",
      "1/1 [==============================] - 0s 28ms/step\n",
      "1/1 [==============================] - 0s 27ms/step\n",
      "1/1 [==============================] - 0s 28ms/step\n",
      "1/1 [==============================] - 0s 28ms/step\n",
      "1/1 [==============================] - 0s 26ms/step\n",
      "1/1 [==============================] - 0s 27ms/step\n",
      "1/1 [==============================] - 0s 36ms/step\n",
      "1/1 [==============================] - 0s 28ms/step\n",
      "1/1 [==============================] - 0s 32ms/step\n",
      "1/1 [==============================] - 0s 32ms/step\n",
      "1/1 [==============================] - 0s 28ms/step\n",
      "1/1 [==============================] - 0s 30ms/step\n",
      "1/1 [==============================] - 0s 28ms/step\n",
      "1/1 [==============================] - 0s 30ms/step\n",
      "1/1 [==============================] - 0s 45ms/step\n"
     ]
    }
   ],
   "source": [
    "scaled_future = forecast_future(trained_model=model_lstm,\n",
    "                                data=scaled_test, #data aktual paling belakang\n",
    "                                look_back=look_back, #24 * 5\n",
    "                                n_features=1, #univariate\n",
    "                                look_ahead=look_ahead) #24*3"
   ]
  },
  {
   "cell_type": "markdown",
   "metadata": {},
   "source": [
    "Do not forget to inverse transform the forecasted value."
   ]
  },
  {
   "cell_type": "code",
   "execution_count": 60,
   "metadata": {},
   "outputs": [],
   "source": [
    "future_dates['future'] = scaler.inverse_transform(scaled_future)"
   ]
  },
  {
   "cell_type": "code",
   "execution_count": 61,
   "metadata": {},
   "outputs": [
    {
     "data": {
      "text/html": [
       "<div>\n",
       "<style scoped>\n",
       "    .dataframe tbody tr th:only-of-type {\n",
       "        vertical-align: middle;\n",
       "    }\n",
       "\n",
       "    .dataframe tbody tr th {\n",
       "        vertical-align: top;\n",
       "    }\n",
       "\n",
       "    .dataframe thead th {\n",
       "        text-align: right;\n",
       "    }\n",
       "</style>\n",
       "<table border=\"1\" class=\"dataframe\">\n",
       "  <thead>\n",
       "    <tr style=\"text-align: right;\">\n",
       "      <th></th>\n",
       "      <th>future</th>\n",
       "    </tr>\n",
       "  </thead>\n",
       "  <tbody>\n",
       "    <tr>\n",
       "      <th>2013-12-23 06:00:00</th>\n",
       "      <td>650.396118</td>\n",
       "    </tr>\n",
       "    <tr>\n",
       "      <th>2013-12-23 07:00:00</th>\n",
       "      <td>650.396118</td>\n",
       "    </tr>\n",
       "    <tr>\n",
       "      <th>2013-12-23 08:00:00</th>\n",
       "      <td>650.396118</td>\n",
       "    </tr>\n",
       "    <tr>\n",
       "      <th>2013-12-23 09:00:00</th>\n",
       "      <td>650.396118</td>\n",
       "    </tr>\n",
       "    <tr>\n",
       "      <th>2013-12-23 10:00:00</th>\n",
       "      <td>650.396118</td>\n",
       "    </tr>\n",
       "    <tr>\n",
       "      <th>...</th>\n",
       "      <td>...</td>\n",
       "    </tr>\n",
       "    <tr>\n",
       "      <th>2013-12-26 01:00:00</th>\n",
       "      <td>20792.402344</td>\n",
       "    </tr>\n",
       "    <tr>\n",
       "      <th>2013-12-26 02:00:00</th>\n",
       "      <td>16556.347656</td>\n",
       "    </tr>\n",
       "    <tr>\n",
       "      <th>2013-12-26 03:00:00</th>\n",
       "      <td>12027.590820</td>\n",
       "    </tr>\n",
       "    <tr>\n",
       "      <th>2013-12-26 04:00:00</th>\n",
       "      <td>7391.051270</td>\n",
       "    </tr>\n",
       "    <tr>\n",
       "      <th>2013-12-26 05:00:00</th>\n",
       "      <td>2783.352539</td>\n",
       "    </tr>\n",
       "  </tbody>\n",
       "</table>\n",
       "<p>72 rows × 1 columns</p>\n",
       "</div>"
      ],
      "text/plain": [
       "                           future\n",
       "2013-12-23 06:00:00    650.396118\n",
       "2013-12-23 07:00:00    650.396118\n",
       "2013-12-23 08:00:00    650.396118\n",
       "2013-12-23 09:00:00    650.396118\n",
       "2013-12-23 10:00:00    650.396118\n",
       "...                           ...\n",
       "2013-12-26 01:00:00  20792.402344\n",
       "2013-12-26 02:00:00  16556.347656\n",
       "2013-12-26 03:00:00  12027.590820\n",
       "2013-12-26 04:00:00   7391.051270\n",
       "2013-12-26 05:00:00   2783.352539\n",
       "\n",
       "[72 rows x 1 columns]"
      ]
     },
     "execution_count": 61,
     "metadata": {},
     "output_type": "execute_result"
    }
   ],
   "source": [
    "future_dates"
   ]
  },
  {
   "cell_type": "markdown",
   "metadata": {},
   "source": [
    "We concatenate the forecasted value with actual value and then visualize it."
   ]
  },
  {
   "cell_type": "code",
   "execution_count": 62,
   "metadata": {},
   "outputs": [
    {
     "data": {
      "text/plain": [
       "<AxesSubplot:>"
      ]
     },
     "execution_count": 62,
     "metadata": {},
     "output_type": "execute_result"
    },
    {
     "data": {
      "image/png": "[encoded data removed]",
      "text/plain": [
       "<Figure size 432x288 with 1 Axes>"
      ]
     },
     "metadata": {
      "needs_background": "light"
     },
     "output_type": "display_data"
    }
   ],
   "source": [
    "pd.concat([df_5161, future_dates], axis=1).plot()"
   ]
  },
  {
   "cell_type": "markdown",
   "metadata": {},
   "source": [
    "# GRU\n",
    "\n",
    "The workflow of the Gated Recurrent Unit (GRU) is the same as the RNN, but the difference is in the operation and gates associated with each GRU unit. It combines the forget and input gates into a single update gate. **GRU is computationally more efficient than LSTM** due to its fewer parameters and less complex structure. To solve the problem faced by standard RNN, GRU incorporates the two gate operating mechanisms called Update gate and Reset gate.\n",
    "\n",
    "<figure>\n",
    "    <center>\n",
    "    <img src=\"assets/GRU.png\" width=\"50%\">\n",
    "<figcaption>Source: https://towardsdatascience.com/illustrated-guide-to-lstms-and-gru-s-a-step-by-step-explanation-44e9eb85bf21</figcaption> \n",
    "    </center>\n",
    "</figure>\n",
    "\n",
    "- **Update gate**: The update gate is responsible for determining the amount of previous information that needs to pass along the next state. This is really powerful because the model can decide to copy all the information from the past and eliminate the risk of vanishing gradient.\n",
    "\n",
    "- **Reset gate**: The reset gate is used from the model to decide how much of the past information is needed to neglect; in short, it decides whether the previous cell state is important or not.\n",
    "\n",
    "Mathematically, GRU can be illustrated as below:\n",
    "\n",
    "<figure>\n",
    "    <center>\n",
    "    <img src=\"assets/LSTM3-var-GRU.png\" width=\"70%\">\n",
    "<!--     <figcaption>Source: http://colah.github.io/posts/2015-08-Understanding-LSTMs/</figcaption> -->\n",
    "    </center>\n",
    "</figure>"
   ]
  },
  {
   "cell_type": "markdown",
   "metadata": {},
   "source": [
    "# Variant of RNN: Bidirectional RNN (BRNN)\n",
    "\n",
    "A typical state in an RNN (simple RNN, GRU, or LSTM) relies on the past and the present events. A state at time $t$ depends on the states $x_1, x_2, ... x_{t-1}$ and $x_t$. However, there can be situations where a prediction depends on the past, present, and future events. To enable straight (past) and reverse traversal of input (future), Bidirectional RNNs, or BRNNs, are used. A BRNN is a combination of two RNNs - **one RNN moves forward**, beginning from the start of the data sequence, and the other, **moves backward**, beginning from the end of the data sequence (Mind you; this is __not__ the same as the backpropagation process.). The network blocks in a BRNN can either be simple RNNs, GRUs, or LSTMs.\n",
    "\n",
    "<figure>\n",
    "    <center>\n",
    "    <img src=\"assets/brnn.png\" width=\"70%\">\n",
    "    <figcaption>Source: http://colah.github.io/posts/2015-09-NN-Types-FP/</figcaption>\n",
    "    </center>\n",
    "</figure>\n",
    "\n",
    "For example, suppose you want to solve the Named Entity Recognition problem, and you face these sentences:\n",
    "1. *__Palu__ itu terletak di atas meja*\n",
    "2. *Aku baru tau __Palu__ itu Ibukota dari Sulawesi Tengah*\n",
    "\n",
    "Is 'Palu' a tool (martil) or a City? You can directly know the answer after you read the next words. Let's look at the second sentence and make it as if an input to BRNN.\n",
    "\n",
    "<figure>\n",
    "    <center>\n",
    "    <img src=\"assets/brnn_example.png\" width=\"70%\">\n",
    "    </center>\n",
    "</figure>\n",
    "\n",
    "Notice that output $Y_3$ has influence not only from word 'Aku', 'baru', 'tau' from input $X_0$ to $X_1$, but also from future words as well. 'itu Ibukota Sulawesi Tengah' sentence influence $Y_3$ output from layer $A'$ direction."
   ]
  },
  {
   "cell_type": "markdown",
   "metadata": {},
   "source": [
    "## 🏄‍ Dive Deeper: Build BRNN Model\n",
    "\n",
    "We can use Keras [Bidirectional](https://keras.io/api/layers/recurrent_layers/bidirectional/) layer. \n",
    "Syntactically, we will wrap the RNN layer with Bidirectional as follows:\n",
    "\n",
    "```{python}\n",
    "keras.layers.Bidirectional(keras.layers.___(...))\n",
    "```\n",
    "\n",
    "Where the `___` can be filled by types of RNN, such as:\n",
    "- `SimpleRNN`\n",
    "- `LSTM`\n",
    "- `GRU`"
   ]
  },
  {
   "cell_type": "markdown",
   "metadata": {},
   "source": [
    "# 📝 Summary\n",
    "\n",
    "Here's a few points that cover the course:\n",
    "\n",
    "- RNNs allow a lot of flexibility in architecture design\n",
    "- Vanilla RNNs are simple but don’t work very well\n",
    "- Common to use LSTM or GRU: their additive interactions improve gradient flow\n",
    "- Backward flow of gradients in RNN can explode or vanish. Vanishing is controlled with additive interactions (LSTM)\n",
    "- `return_sequences=True` is a important parameter if we want to make deep stacked layers. It returns 3 dimension input to the next layer."
   ]
  },
  {
   "cell_type": "markdown",
   "metadata": {},
   "source": [
    "___"
   ]
  },
  {
   "cell_type": "markdown",
   "metadata": {},
   "source": [
    "# External Links\n",
    "\n",
    "___\n",
    "\n",
    "- [Adam](https://arxiv.org/pdf/1412.6980.pdf)\n",
    "- [HDF5 Data Type](https://support.hdfgroup.org/HDF5/doc1.6/UG/11_Datatypes.html)\n",
    "- [Keras Sequential Model](https://keras.io/guides/sequential_model)\n",
    "- [Keras Dense Layer](https://keras.io/api/layers/core_layers/dense/)\n",
    "- [L1 vs L2 Regularization](https://explained.ai/regularization/L1vsL2.html)\n",
    "- [Neuron Transmits Messages In The Brain - Genetic Science Learning Center](http://learn.genetics.utah.edu/content/neuroscience/neurons/)\n",
    "- [Relu](http://proceedings.mlr.press/v15/glorot11a/glorot11a.pdf)\n",
    "- [RMSProp](https://www.cs.toronto.edu/~hinton/coursera/lecture6/lec6.pdf)\n",
    "- http://colah.github.io/posts/2015-08-Understanding-LSTMs/\n",
    "- https://towardsdatascience.com/illustrated-guide-to-lstms-and-gru-s-a-step-by-step-explanation-44e9eb85bf21\n",
    "- https://karpathy.github.io/2015/05/21/rnn-effectiveness/"
   ]
  }
 ],
 "metadata": {
  "kernelspec": {
   "display_name": "dss_rnn",
   "language": "python",
   "name": "dss_rnn"
  },
  "language_info": {
   "codemirror_mode": {
    "name": "ipython",
    "version": 3
   },
   "file_extension": ".py",
   "mimetype": "text/x-python",
   "name": "python",
   "nbconvert_exporter": "python",
   "pygments_lexer": "ipython3",
   "version": "3.9.13"
  },
  "toc": {
   "base_numbering": 1,
   "nav_menu": {},
   "number_sections": false,
   "sideBar": true,
   "skip_h1_title": false,
   "title_cell": "Table of Contents",
   "title_sidebar": "Contents",
   "toc_cell": false,
   "toc_position": {
    "height": "calc(100% - 180px)",
    "left": "10px",
    "top": "150px",
    "width": "256px"
   },
   "toc_section_display": true,
   "toc_window_display": false
  }
 },
 "nbformat": 4,
 "nbformat_minor": 4
}
