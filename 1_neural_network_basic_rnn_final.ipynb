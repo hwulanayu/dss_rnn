{
 "cells": [
  {
   "cell_type": "markdown",
   "metadata": {},
   "source": [
    "<img src=\"assets/logo.png\" width=\"150\">\n",
    "<br>\n",
    "\n",
    "**Coursebook: Neural Network Basics in Python**\n",
    "\n",
    "- Course Length: 3 Hours\n",
    "- Last Update: September 2022\n",
    "\n",
    "___\n",
    "\n",
    "Developed by Wulan\n",
    "\n",
    "\n"
   ]
  },
  {
   "cell_type": "markdown",
   "metadata": {},
   "source": [
    "The coursebook is  prepared by [Algoritma](https://algorit.ma). The coursebook is intended for a restricted audience only, i.e. the individuals and organizations having received this coursebook directly from the training organization. It may not be reproduced, distributed, translated or adapted in any form outside these individuals and organizations without permission.\n",
    "\n",
    "Algoritma is a data science education center based in Jakarta. We organize workshops and training programs to help working professionals and students gain mastery in various data science sub-fields: data visualization, machine learning, data modeling, statistical inference etc."
   ]
  },
  {
   "cell_type": "markdown",
   "metadata": {},
   "source": [
    "# Preface\n",
    "\n",
    "## Background \n",
    "\n",
    "The almost universal adoption of mobile phones and the exponential increase in the use of Internet services is generating an enormous amount of data that can be used to provide new fundamental and quantitative insights on socio-technical systems. This creates a demand to forecast Mobile network traffic so the Internet service providers can estimate how big the bandwidth they need to provide for users so that they can give best services to their customers. \n",
    "\n",
    "This 3-day online workshop is a beginner-friendly introduction to Forecasting Mobile Network (Internet) Traffic with Recurrent Neural Network (RNN). By performing a time series analysis on your historical business data and comparing it with current trends, you will be able to make a more informed decision. \n",
    "\n",
    "Throughout the online course, we will provide participants with a rich interactive experience. One Instructor and two Teaching Assistants will help participants to troubleshoot or help with any difficulties encountered by participants."
   ]
  },
  {
   "cell_type": "markdown",
   "metadata": {},
   "source": [
    "## Training Objective\n",
    "\n",
    "The objective of this course is to provide participants with a comprehensive introduction to understanding deep learning model building for sequential data using Python. We will learn techniques on how to process sequential data to obtain a deep learning model. Syllabus includes:\n",
    "\n",
    "- **Python Programming Basics:**\n",
    "    + Working with Conda Environment\n",
    "    + Introduction to Python for data science\n",
    "    + Data manipulation and processing with Python Pandas\n",
    "- **Neural Network Architecture:**\n",
    "    + Layer and neurons\n",
    "    + Activation and cost function\n",
    "    + Feedforward\n",
    "    + Backpropagation\n"
   ]
  },
  {
   "cell_type": "markdown",
   "metadata": {},
   "source": [
    "# Python Programming Basic\n",
    "\n",
    "## Setting up Anaconda Environment\n",
    "\n",
    "**How to create a new virtual environment:**\n",
    "\n",
    "1. Open Anaconda Prompt\n",
    "\n",
    "2. Create new virtual environment with:\n",
    "    ```\n",
    "    conda create -n <ENV_NAME> python=<PYTHON_VERSION>\n",
    "    ```\n",
    "    For example: `conda create -n dss_rnn python=3.9`\n",
    "\n",
    "\n",
    "3. Activate the new virtual environment witg:\n",
    "    ```\n",
    "    conda activate <ENV_NAME>\n",
    "    ```\n",
    "    For example: `conda activate dss_rnn`\n",
    "    \n",
    "    \n",
    "4. Change your terminal directory to the path where the requirements.txt is located. For example, if your txt file is in the Desktop directory, use: `cd Desktop`\n",
    "\n",
    "\n",
    "5. For standardization packages and libraries installation, please install using the `requirements.txt` shared to you.\n",
    "    ```\n",
    "    pip install -r requirements.txt\n",
    "    ```\n",
    "    \n",
    "6. Install kernel to connect the virtual environment to the Jupyter Notebook.\n",
    "    ```\n",
    "    python -m ipykernel install --user --name=<ENV_NAME>\n",
    "    ```\n",
    "    For example: `python -m ipykernel install --user --name=dss_rnn`\n"
   ]
  },
  {
   "cell_type": "markdown",
   "metadata": {},
   "source": [
    "## Working with Jupyter Notebook\n",
    "\n",
    "### Markdown Cell and Code Cell\n",
    "\n",
    "Kumpulan shortcut: **CTRL + SHIFT + P**\n",
    "\n",
    "Tipe cell dalam notebook:\n",
    "1. Markdown \n",
    "2. Code\n",
    "\n",
    "This is markdown cell. You can write a formatted text such as **bold** or *italic*. You can even write mathematical formula such \n",
    "\n",
    "\\begin{equation}\n",
    "f(x) = \\frac{e^{-x}}{(1+e^{-x})}\n",
    "\\end{equation}\n"
   ]
  },
  {
   "cell_type": "code",
   "execution_count": 1,
   "metadata": {},
   "outputs": [
    {
     "name": "stdout",
     "output_type": "stream",
     "text": [
      "and this is code cell where you put your python codes down\n",
      "cheers!\n"
     ]
    }
   ],
   "source": [
    "print('and this is code cell where you put your python codes down')\n",
    "print('cheers!')"
   ]
  },
  {
   "cell_type": "markdown",
   "metadata": {},
   "source": [
    "### Command Mode and Edit Mode\n",
    "\n",
    "Command mode and edit mode could bring different results upon given keyboard shortcuts.\n",
    "\n",
    "In command mode your active cell will have blue highlight color on the left side, while in edit mode, it will have green border. "
   ]
  },
  {
   "cell_type": "markdown",
   "metadata": {},
   "source": [
    "### Command Mode and Edit Mode\n",
    "\n",
    "Mode cell dalam notebook:\n",
    "1. Command mode (cell berwarna BIRU)\n",
    "    - `a` : add cell above \n",
    "    - `b` : add cell below \n",
    "    - `d` + `d` : delete selected cell \n",
    "    - `x` : cut selected cell \n",
    "    - `c` : copy selected cell \n",
    "    - `v` : paste selected cell \n",
    "    - `z` : undo \n",
    "    - `m` : change cell type to markdown \n",
    "    - `y` : change cell type to code\n",
    "    - `enter` : enter Edit Mode\n",
    "    - `h` : show keyboard shortcuts\n",
    "\n",
    "\n",
    "2. Edit mode (cell berwarna HIJAU)\n",
    "    - `Ctrl + Enter`: eksekusi satu cell\n",
    "    - `Shift + enter`: eksekusi satu cell\n",
    "    - `Esc`: Mengubah edit mode menjadi command mode"
   ]
  },
  {
   "cell_type": "code",
   "execution_count": 2,
   "metadata": {},
   "outputs": [
    {
     "data": {
      "text/plain": [
       "2"
      ]
     },
     "execution_count": 2,
     "metadata": {},
     "output_type": "execute_result"
    }
   ],
   "source": [
    "1 + 1"
   ]
  },
  {
   "cell_type": "markdown",
   "metadata": {},
   "source": [
    "## Variables and Keywords\n",
    "\n",
    "**Variable** adalah sebuah nama yang dipakai untuk menunjukkan sebuah nilai. Tanda `=` dipakai untuk membuat variable baru. Proses ini sering disebut sebagai **assignment**.\n",
    "\n",
    "Python adalah bahasa pemrograman yang **case-sensitive** sehingga penamaan variable menjadi hal yang perlu diperhatikan. Misal penulisan variable `activity` dengan awalan huruf `a` kecil berbeda dengan yang diawali dengan huruf `A` besar.\n",
    "\n",
    "Berikut beberapa anjuran dalam memberikan nama variable pada Python:\n",
    "- Menggunakan kombinasi dari huruf kapital (A-Z), huruf nomina (a-z), angka (0-9).\n",
    "- Special character `!, $ , &, dll` tidak dapat digunakan dalam penamaan variabel. (contoh: you&me) \n",
    "- Tidak boleh menggunakan angka di awal. (contoh: 123Algoritma)\n",
    "- Tidak boleh menggunakan keyword pada Python\n",
    "- Bersifat case-sensitive sehingga penamaan variable `algoritma`, `ALGORITMA`, dan `Algoritma` adalah 3 variable yang berbeda\n",
    "___\n",
    "\n",
    "**Keywords** adalah kata kunci yang sudah ditetapkan oleh Python sebagai nama yang tidak bisa dipakai baik untuk penamaan fungsi, variabel, dan lainnya. Keyword ditulis dalam lower-case (huruf kecil semua) kecuali keyword `True`, `False`, dan `None`. Sejauh ini (Python 3.9) keyword yang ada pada Python adalah sebagai berikut:"
   ]
  },
  {
   "cell_type": "code",
   "execution_count": 3,
   "metadata": {},
   "outputs": [],
   "source": [
    "dss3 = \"RNN\""
   ]
  },
  {
   "cell_type": "code",
   "execution_count": 4,
   "metadata": {},
   "outputs": [
    {
     "data": {
      "text/plain": [
       "False"
      ]
     },
     "execution_count": 4,
     "metadata": {},
     "output_type": "execute_result"
    }
   ],
   "source": [
    "\"activity\"  == \"Activity\""
   ]
  },
  {
   "cell_type": "code",
   "execution_count": 5,
   "metadata": {},
   "outputs": [],
   "source": [
    "#False = \"dss\"\n",
    "#SyntaxError: cannot assign to False"
   ]
  },
  {
   "cell_type": "code",
   "execution_count": 6,
   "metadata": {},
   "outputs": [
    {
     "data": {
      "text/plain": [
       "['False',\n",
       " 'None',\n",
       " 'True',\n",
       " '__peg_parser__',\n",
       " 'and',\n",
       " 'as',\n",
       " 'assert',\n",
       " 'async',\n",
       " 'await',\n",
       " 'break',\n",
       " 'class',\n",
       " 'continue',\n",
       " 'def',\n",
       " 'del',\n",
       " 'elif',\n",
       " 'else',\n",
       " 'except',\n",
       " 'finally',\n",
       " 'for',\n",
       " 'from',\n",
       " 'global',\n",
       " 'if',\n",
       " 'import',\n",
       " 'in',\n",
       " 'is',\n",
       " 'lambda',\n",
       " 'nonlocal',\n",
       " 'not',\n",
       " 'or',\n",
       " 'pass',\n",
       " 'raise',\n",
       " 'return',\n",
       " 'try',\n",
       " 'while',\n",
       " 'with',\n",
       " 'yield']"
      ]
     },
     "execution_count": 6,
     "metadata": {},
     "output_type": "execute_result"
    }
   ],
   "source": [
    "# Cek daftar keyword\n",
    "import keyword\n",
    "keyword.kwlist"
   ]
  },
  {
   "cell_type": "markdown",
   "metadata": {},
   "source": [
    "## Python Data Types\n",
    "\n",
    "### String\n",
    "\n",
    "Python mewakili string apa pun sebagai objek `str`. Ada beberapa cara untuk membuat nilai string:\n",
    "\n",
    "- menggunakan `''` (yaitu: `'cyber punk 2077'`)\n",
    "- menggunakan `\"\"` (yaitu : `\"Hari Jum'at\"`)\n",
    "- menggunakan `'''` atau `\"\"\"` (yaitu: `'''Andi berkata \"Jum'at Bersih\"'''`)"
   ]
  },
  {
   "cell_type": "code",
   "execution_count": 7,
   "metadata": {},
   "outputs": [
    {
     "data": {
      "text/plain": [
       "'string contoh'"
      ]
     },
     "execution_count": 7,
     "metadata": {},
     "output_type": "execute_result"
    }
   ],
   "source": [
    "\"string contoh\""
   ]
  },
  {
   "cell_type": "markdown",
   "metadata": {},
   "source": [
    "### Number\n",
    "\n",
    "Untuk menyimpan number, python memiliki dua tipe data asli yang disebut `int` dan `float`.\n",
    "- `int` digunakan untuk menyimpan bilangan bulat (yaitu: 1,2,-3)\n",
    "- `float` digunakan untuk menyimpan bilangan real (yaitu: 0.7, -1.8, -1000.0).\n",
    "\n",
    "**Operasi Angka** \\\n",
    "Operator Aritmatika:\n",
    "- `+` - Penambahan\n",
    "- `-` - Pengurangan\n",
    "- `*` - Perkalian\n",
    "- `/` - Divisi\n",
    "- `//` - Pembagian Putaran (pembagian dan pembulatan ke bawah)\n",
    "- `%` - Modul (sisa pembagian)\n",
    "- `**` - Eksponen\n",
    "\n",
    "Operator Perbandingan:\n",
    "- `<` - Lebih kecil dari (yaitu : a < b)\n",
    "- `<=` - Lebih kecil atau sama dengan (yaitu : a <= b)\n",
    "- `>` - Lebih besar dari (yaitu: a > b)\n",
    "- `>=` - Lebih besar atau sama dengan (yaitu: a >= b)\n",
    "- `==` - Sama dengan (yaitu: a == b)\n",
    "- `!=` - Tidak Sama dengan (yaitu: a != b)"
   ]
  },
  {
   "cell_type": "markdown",
   "metadata": {},
   "source": [
    "`==` digunakan untuk perbandingan, sedangkan operator `=` digunakan untuk mengassign suatu nilai ke dalam suatu variabel."
   ]
  },
  {
   "cell_type": "markdown",
   "metadata": {},
   "source": [
    "### Boolean\n",
    "\n",
    "Boolean menyimpan nilai yang sangat sederhana dalam komputer dan pemrograman, `True` atau `False`."
   ]
  },
  {
   "cell_type": "code",
   "execution_count": 8,
   "metadata": {},
   "outputs": [
    {
     "data": {
      "text/plain": [
       "False"
      ]
     },
     "execution_count": 8,
     "metadata": {},
     "output_type": "execute_result"
    }
   ],
   "source": [
    "True\n",
    "False"
   ]
  },
  {
   "cell_type": "code",
   "execution_count": 9,
   "metadata": {},
   "outputs": [
    {
     "data": {
      "text/plain": [
       "2"
      ]
     },
     "execution_count": 9,
     "metadata": {},
     "output_type": "execute_result"
    }
   ],
   "source": [
    "True + True"
   ]
  },
  {
   "cell_type": "code",
   "execution_count": 10,
   "metadata": {},
   "outputs": [
    {
     "data": {
      "text/plain": [
       "True"
      ]
     },
     "execution_count": 10,
     "metadata": {},
     "output_type": "execute_result"
    }
   ],
   "source": [
    "True or False"
   ]
  },
  {
   "cell_type": "markdown",
   "metadata": {},
   "source": [
    "## Data Structure\n",
    "\n",
    "### List\n",
    "\n",
    "`list` digunakan untuk menyimpan beberapa nilai dalam python. Untuk membuatnya, cukup letakkan nilai di dalam tanda kurung (yaitu: `x = [1,2,3]` )\n",
    "\n",
    "**Operasi List**\n",
    "- `x.append(a)` : tambahkan a ke x\n",
    "- `x.remove(a)` : hapus a dari x\n",
    "\n",
    "Selain operator yang dikenal sebelumnya, salah satu list yang paling berguna adalah dengan menerapkan fungsi agregasi seperti:\n",
    "- `len(x)` : ekstrak panjang daftar\n",
    "- `a in b` : memeriksa apakah nilai `a` ada di objek daftar `b`\n",
    "- `max(x)` : mendapatkan nilai tertinggi dalam x\n",
    "- `sum(x)` : mendapatkan jumlah nilai dalam x\n",
    "\n",
    "Operasi lain yang harus diketahui dalam daftar adalah pengindeksan:\n",
    "- `x[i]` : mengakses elemen ke-i dari x"
   ]
  },
  {
   "cell_type": "code",
   "execution_count": 11,
   "metadata": {},
   "outputs": [
    {
     "data": {
      "text/plain": [
       "['Dwi', 'Nabiilah', 'Wulan']"
      ]
     },
     "execution_count": 11,
     "metadata": {},
     "output_type": "execute_result"
    }
   ],
   "source": [
    "list_nama = ['Dwi', \"Nabiilah\", \"Wulan\"]\n",
    "list_nama"
   ]
  },
  {
   "cell_type": "code",
   "execution_count": 12,
   "metadata": {},
   "outputs": [],
   "source": [
    "list_nama.append(\"Fafil\")"
   ]
  },
  {
   "cell_type": "code",
   "execution_count": 13,
   "metadata": {},
   "outputs": [
    {
     "data": {
      "text/plain": [
       "['Dwi', 'Nabiilah', 'Wulan', 'Fafil']"
      ]
     },
     "execution_count": 13,
     "metadata": {},
     "output_type": "execute_result"
    }
   ],
   "source": [
    "list_nama"
   ]
  },
  {
   "cell_type": "code",
   "execution_count": 14,
   "metadata": {},
   "outputs": [
    {
     "data": {
      "text/plain": [
       "'Fafil'"
      ]
     },
     "execution_count": 14,
     "metadata": {},
     "output_type": "execute_result"
    }
   ],
   "source": [
    "list_nama[3]"
   ]
  },
  {
   "cell_type": "markdown",
   "metadata": {},
   "source": [
    "### Numpy Array\n",
    "\n",
    "Numpy adalah library utama untuk scientific computing menggunakan Python. Library ini menyediakan objek multidimensional array  dan berbagai function yang dapat dimanfaatkan untuk array tersebut.\n",
    "\n",
    "**Numpy array** adalah kumpulan nilai, yang memiliki tipe data yang sama, dan diindeks oleh tuple bilangan bulat non-negatif. \n",
    "Jumlah dimensi adalah deretan array; bentuk array adalah tuple bilangan bulat yang menunjukkan ukuran array pada setiap dimensi."
   ]
  },
  {
   "cell_type": "code",
   "execution_count": 15,
   "metadata": {},
   "outputs": [],
   "source": [
    "import numpy as np"
   ]
  },
  {
   "cell_type": "code",
   "execution_count": 16,
   "metadata": {},
   "outputs": [
    {
     "name": "stdout",
     "output_type": "stream",
     "text": [
      "<class 'numpy.ndarray'>\n",
      "(3,)\n",
      "1 2 3\n",
      "[5 2 3]\n"
     ]
    }
   ],
   "source": [
    "a = np.array([1, 2, 3])   # Create a rank 1 array\n",
    "print(type(a))            # Prints \"<class 'numpy.ndarray'>\"\n",
    "print(a.shape)            # Prints \"(3,)\"\n",
    "print(a[0], a[1], a[2])   # Prints \"1 2 3\"\n",
    "a[0] = 5                  # Change an element of the array\n",
    "print(a)                  # Prints \"[5, 2, 3]\""
   ]
  },
  {
   "cell_type": "code",
   "execution_count": 17,
   "metadata": {},
   "outputs": [
    {
     "data": {
      "text/plain": [
       "(3,)"
      ]
     },
     "execution_count": 17,
     "metadata": {},
     "output_type": "execute_result"
    }
   ],
   "source": [
    "a.shape"
   ]
  },
  {
   "cell_type": "markdown",
   "metadata": {},
   "source": [
    "untuk mengakses dokumentasi (docstring) dapat mengarahkan kursor di antara fungsinya, lalu tekan shift + tab"
   ]
  },
  {
   "cell_type": "code",
   "execution_count": 18,
   "metadata": {},
   "outputs": [
    {
     "name": "stdout",
     "output_type": "stream",
     "text": [
      "(2, 3)\n",
      "1 2 4\n"
     ]
    }
   ],
   "source": [
    "b = np.array([[1,2,3],[4,5,6]])    # Create a rank 2 array\n",
    "print(b.shape)                     # Prints \"(2, 3)\"\n",
    "print(b[0, 0], b[0, 1], b[1, 0])   # Prints \"1 2 4\""
   ]
  },
  {
   "cell_type": "markdown",
   "metadata": {},
   "source": [
    "🔎 **Method vs. Atribut**\n",
    "\n",
    "- Secara fisik/kasat mata, method selalu diikuti dengan tanda kurung ()\n",
    "- Secara fisik/kasat mata, atribut tidak diikuti oleh tanda kurung\n",
    "- Didalam sebuah method, nilai parameter bisa diganti-ganti\n",
    "- Pada sebuah atribut, penggunaaan apa adanya/tidak ada nilai yang bisa diganti ganti"
   ]
  },
  {
   "cell_type": "markdown",
   "metadata": {},
   "source": [
    "## Function\n",
    "\n",
    "Function merupakan sekelompok perintah yang digunakan untuk melakukan tugas tertentu. Ketika kita melakukan sesuatu yang berulang dan rumit, alangkah baiknya kita menggunakan fungsi agar tidak ada langkah yang berubah maupun penulisan kode yang salah. Penulisan umum sebuah fungsi yaitu:\n",
    "```\n",
    "def nama_fungsi(parameter):\n",
    "    perintah\n",
    "```\n",
    "Pada syntax umum di atas, `def` merupakan inisiator untuk sebuah fungsi. Sementara hal-hal yang harus kita tentukan yaitu nama dari fungsi, parameter yang akan digunakan di dalamnya, serta perintah atau kode. \n",
    "\n",
    "Sebagai contoh, kita akan membuat sebuah fungsi penjumlahan:"
   ]
  },
  {
   "cell_type": "code",
   "execution_count": 19,
   "metadata": {},
   "outputs": [
    {
     "name": "stdout",
     "output_type": "stream",
     "text": [
      "6\n"
     ]
    }
   ],
   "source": [
    "def tambah(nilai_1, nilai_2):\n",
    "    hasil = nilai_1 + nilai_2\n",
    "    print(hasil)\n",
    "    \n",
    "tambah(2,4)"
   ]
  },
  {
   "cell_type": "markdown",
   "metadata": {},
   "source": [
    "Pada fungsi tersebut kita mencetak hasil perhitungan menggunakan fungsi `print()`, tetapi nilainya tidak bisa kita simpan. \n",
    "Sebagai contoh:"
   ]
  },
  {
   "cell_type": "code",
   "execution_count": 20,
   "metadata": {},
   "outputs": [
    {
     "name": "stdout",
     "output_type": "stream",
     "text": [
      "6\n",
      "None\n"
     ]
    }
   ],
   "source": [
    "hasil = tambah(2,4)\n",
    "print(hasil)"
   ]
  },
  {
   "cell_type": "markdown",
   "metadata": {},
   "source": [
    "Untuk melakukan penyimpanan nilai, kita harus menggunakan perintah `return` dari nilai yang ingin kita simpan."
   ]
  },
  {
   "cell_type": "code",
   "execution_count": 21,
   "metadata": {},
   "outputs": [
    {
     "data": {
      "text/plain": [
       "6"
      ]
     },
     "execution_count": 21,
     "metadata": {},
     "output_type": "execute_result"
    }
   ],
   "source": [
    "def tambah_2(nilai_1, nilai_2):\n",
    "    hasil = nilai_1 + nilai_2\n",
    "    return hasil\n",
    "\n",
    "tambah_2(2,4)"
   ]
  },
  {
   "cell_type": "code",
   "execution_count": 22,
   "metadata": {},
   "outputs": [
    {
     "data": {
      "text/plain": [
       "6"
      ]
     },
     "execution_count": 22,
     "metadata": {},
     "output_type": "execute_result"
    }
   ],
   "source": [
    "hasil = tambah_2(2, 4)\n",
    "hasil"
   ]
  },
  {
   "cell_type": "markdown",
   "metadata": {},
   "source": [
    "## For Loops"
   ]
  },
  {
   "cell_type": "markdown",
   "metadata": {},
   "source": [
    "`for loop` digunakan untuk mengulangi/mengiterasi suatu urutan (dapat berupa list atau string)."
   ]
  },
  {
   "cell_type": "markdown",
   "metadata": {},
   "source": [
    "Contoh `for loop` untuk mengiterasi elemen pada list:"
   ]
  },
  {
   "cell_type": "code",
   "execution_count": 23,
   "metadata": {},
   "outputs": [
    {
     "name": "stdout",
     "output_type": "stream",
     "text": [
      "kucing\n",
      "anjing\n",
      "capybara\n"
     ]
    }
   ],
   "source": [
    "hewan = [\"kucing\", \"anjing\", \"capybara\"]\n",
    "for x in hewan:\n",
    "  print(x)"
   ]
  },
  {
   "cell_type": "markdown",
   "metadata": {},
   "source": [
    "Contoh `for loop` untuk mengiterasi karakter pada suatu string:"
   ]
  },
  {
   "cell_type": "code",
   "execution_count": 24,
   "metadata": {},
   "outputs": [
    {
     "name": "stdout",
     "output_type": "stream",
     "text": [
      "k\n",
      "u\n",
      "d\n",
      "a\n",
      " \n",
      "l\n",
      "a\n",
      "u\n",
      "t\n"
     ]
    }
   ],
   "source": [
    "for x in \"kuda laut\":\n",
    "  print(x)"
   ]
  },
  {
   "cell_type": "markdown",
   "metadata": {},
   "source": [
    "### range()"
   ]
  },
  {
   "cell_type": "markdown",
   "metadata": {},
   "source": [
    "Untuk mengulang satu set kode beberapa kali, kita dapat menggunakan fungsi `range()`. Fungsi range() mengembalikan urutan angka, mulai dari 0 secara default, dan bertambah 1 (secara default), dan berakhir pada angka yang ditentukan."
   ]
  },
  {
   "cell_type": "code",
   "execution_count": 25,
   "metadata": {},
   "outputs": [
    {
     "name": "stdout",
     "output_type": "stream",
     "text": [
      "0\n",
      "1\n",
      "2\n",
      "3\n",
      "4\n",
      "5\n",
      "6\n"
     ]
    }
   ],
   "source": [
    "for x in range(7):\n",
    "  print(x)"
   ]
  },
  {
   "cell_type": "markdown",
   "metadata": {},
   "source": [
    "# Neural Network\n",
    "\n",
    "**Neural network** atau artificial neural network (ANN) adalah metode machine learning yang *terinspirasi dari cara kerja otak manusia* mengirimkan informasi melalui sistem saraf (biological neural network). Terdapat 2 hal utama dari neural network: **arsitektur** & **learning process** yang dilakukan.\n",
    "\n",
    "## Arsitektur Neural Network\n",
    "\n",
    "Sistem saraf yang dimiliki manusia terdiri dari sel saraf yang dinamakan **neuron**, dan neuron tersebut amat banyak hingga membentuk **jaringan**. Tiap stimulus/input dari luar akan diterima oleh panca indra sebagai signal kemudian akan dialirkan melalui satu sel saraf ke sel saraf lainnya. Jaringan sel saraf tersebar dari ujung jari hingga otak dan berlanjut kembali ke seluruh tubuh kita. \n",
    "    \n",
    "> Jaringan sel saraf mengalirkan informasi dari area stimulus/**input**, diproses melalui otak, lalu dikembalikan kepada tubuh sebagai **output** atau respon yang kita berikan.\n",
    "\n",
    "Human Neuron  |  Artificial Neural Network's Neuron\n",
    "-- | --\n",
    "![neuron](assets/bnn.png) | ![neuron](assets/ann.PNG)\n",
    "\n",
    "Arsitektur sistem saraf inilah yang menginspirasi terbentuknya model neural network. "
   ]
  },
  {
   "cell_type": "markdown",
   "metadata": {},
   "source": [
    "## Understanding How Neural Network Works\n",
    "\n",
    "Untuk mengetahui lebih jelas kita akan coba bahas melalui grafik berikut:\n",
    "\n",
    "![nn works](assets/nn_works.png)\n",
    "\n",
    "💡 Pada model neural network, informasi dialirkan dan diproses melalui arsitektur yang terdiri dari:\n",
    "\n",
    "* **neuron/node**: tempat informasi disimpan\n",
    "* **input layer**: layer yang menerima input sekaligus layer pertama; node sejumlah variable input/prediktor (x1, x2, ..., xn)\n",
    "* **hidden layer**: layer antara input & output, tempat *proses informasi*; jumlah layernya bisa lebih dari 1, yang menentukan adalah user\n",
    "* **output layer**: layer yang mengeluarkan output (hasil prediksi) sekaligus layer terakhir; node sejumlah variabel target (y)\n",
    "- _**weight**_: informasi yang dibawa oleh setiap neuron. Awalnya bobot ini akan di inisialisasi secara random."
   ]
  },
  {
   "cell_type": "markdown",
   "metadata": {},
   "source": [
    "## Implementing Neuron with Keras \n",
    "\n",
    "Untuk lebih memahami tentang cara kerja neuron, coba kita buat suatu model yang terdisi dari satu neuron menggunakan `Keras`.\n",
    "\n",
    "Contoh kita buat dummy data yang terdiri dari `x` sebagai prediktor dan `y` sebagai target variabel. Tugas kita akan membuat model yang memprediksi nilai `y` berdasarkan nilai pada data `x`"
   ]
  },
  {
   "cell_type": "code",
   "execution_count": 26,
   "metadata": {},
   "outputs": [],
   "source": [
    "# Library Tensorflow\n",
    "import numpy as np\n",
    "import tensorflow as tf\n",
    "import tensorflow.keras as keras"
   ]
  },
  {
   "cell_type": "code",
   "execution_count": 27,
   "metadata": {},
   "outputs": [],
   "source": [
    "# Create quick example of x and y data\n",
    "x_train = np.array([1,2,3,4,5,10]) # Predictor\n",
    "y_train = np.array([3,5,7,9,11,21]) # Target Variable\n",
    "\n",
    "x_test = np.array([16, 17, 18, 19, 20, 100, 200])\n",
    "y_test = np.array([33, 35, 37, 39, 41, 201, 401])"
   ]
  },
  {
   "cell_type": "code",
   "execution_count": 28,
   "metadata": {},
   "outputs": [
    {
     "data": {
      "text/plain": [
       "(6,)"
      ]
     },
     "execution_count": 28,
     "metadata": {},
     "output_type": "execute_result"
    }
   ],
   "source": [
    "x_train.shape"
   ]
  },
  {
   "cell_type": "markdown",
   "metadata": {},
   "source": [
    "data train digunakan untuk membuat model sedangkan data test digunakan untuk menguji apakah model dapat memprediksi dengan baik data yang belum pernah model tersebut liat"
   ]
  },
  {
   "cell_type": "markdown",
   "metadata": {},
   "source": [
    "**1. Model Initialization** \\\n",
    "Langkah pertama dalam membuat model adalah dengan menginisialisasinya. Dalam keras, kita dapat menggunakan metode `keras.Sequential()` untuk membuat objek model sequential\n",
    "\n",
    "- Documentation: https://keras.io/guides/sequential_model/"
   ]
  },
  {
   "cell_type": "code",
   "execution_count": 29,
   "metadata": {},
   "outputs": [],
   "source": [
    "# set randomness so the model is reproducible\n",
    "import random\n",
    "random.seed(722) #Mmengunci inisiasi random di komputer saya dan Bapk/Ibu lain sehingga nilai yang keluar sama.\n",
    "np.random.seed(722)\n",
    "tf.random.set_seed(722)\n",
    "\n",
    "# Model Initialization\n",
    "model = keras.Sequential()"
   ]
  },
  {
   "cell_type": "markdown",
   "metadata": {},
   "source": [
    "❗️Tambahkan layer pada model yang sudah kita buat dengan menggunakan method `add()`\n",
    "\n",
    "input_shape = merujuk pada jumlah nodes (jumlah kolomnya)"
   ]
  },
  {
   "cell_type": "code",
   "execution_count": 30,
   "metadata": {},
   "outputs": [
    {
     "name": "stdout",
     "output_type": "stream",
     "text": [
      "Model: \"sequential\"\n",
      "_________________________________________________________________\n",
      " Layer (type)                Output Shape              Param #   \n",
      "=================================================================\n",
      " dense (Dense)               (None, 1)                 2         \n",
      "                                                                 \n",
      "=================================================================\n",
      "Total params: 2\n",
      "Trainable params: 2\n",
      "Non-trainable params: 0\n",
      "_________________________________________________________________\n"
     ]
    }
   ],
   "source": [
    "# Develop model blueprints \n",
    "model.add(keras.layers.InputLayer(input_shape=[1])) # input layer\n",
    "model.add(keras.layers.Dense(units=1)) # output layer\n",
    "\n",
    "# Model Summary\n",
    "model.summary()"
   ]
  },
  {
   "cell_type": "markdown",
   "metadata": {},
   "source": [
    "**2. Model Compilation**\n",
    "\n",
    "Setelah desain model dibuat, selanjutnya harus dikompilasi dengan **loss function** (cost function) yang benar dan **optimizer** untuk mengukur kinerjanya selama proses training. Jika Anda tidak begitu memahami cara kerja optimizer, jangan khawatir karena kita akan membahasnya nanti dalam kursus ini."
   ]
  },
  {
   "cell_type": "code",
   "execution_count": 31,
   "metadata": {},
   "outputs": [],
   "source": [
    "# Model Compilation\n",
    "model.compile(optimizer='SGD', loss='mean_squared_error')"
   ]
  },
  {
   "cell_type": "markdown",
   "metadata": {},
   "source": [
    "Berikut ilustrasi model yang telah kita buat di sel sebelumnya\n",
    "\n",
    "![image.png](data:image/png;base64,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)"
   ]
  },
  {
   "cell_type": "markdown",
   "metadata": {},
   "source": [
    "Setelah kita membuat model, kita mungkin ingin tahu tentang nilai masing-masing bobot (`w` dan `b`). Secara default, keras akan mengacak nilai menggunakan [glorot normal distributions](https://keras.io/api/layers/initializers/). Untuk melihat bobot dapat memanggil kode yang disajikan di bawah ini dan kita akan melihat setiap kali kita menginisialisasi model, bobotnya akan berubah."
   ]
  },
  {
   "cell_type": "code",
   "execution_count": 32,
   "metadata": {},
   "outputs": [
    {
     "data": {
      "text/plain": [
       "[<tf.Variable 'dense/kernel:0' shape=(1, 1) dtype=float32, numpy=array([[1.0330633]], dtype=float32)>,\n",
       " <tf.Variable 'dense/bias:0' shape=(1,) dtype=float32, numpy=array([0.], dtype=float32)>]"
      ]
     },
     "execution_count": 32,
     "metadata": {},
     "output_type": "execute_result"
    }
   ],
   "source": [
    "model.weights"
   ]
  },
  {
   "cell_type": "markdown",
   "metadata": {},
   "source": [
    "**3. Model Train**\n",
    "\n",
    "Proses training dalam arsitektur neural network sedikit berbeda dari model lainnya. Proses ini terdiri dari dua langkah yaitu:\n",
    "\n",
    "1. **Feedforward** : Proses untuk mengirimkan data ke dalam model dan menghasilkan output (dalam hal ini, prediksi y atau biasanya dilambangkan dengan $\\hat{y}$)\n",
    "2. **Backpropagation** : Proses untuk mengevaluasi error/loss antara $\\hat{y}$ dan $y$, kemudian memperbarui model untuk meningkatkan kinerjanya nanti\n",
    "\n",
    "Seluruh proses feedforward dan backpropagation dilakukan saat kita memanggil fungsi `.fit()` di bawah ini:"
   ]
  },
  {
   "cell_type": "code",
   "execution_count": 33,
   "metadata": {},
   "outputs": [
    {
     "name": "stdout",
     "output_type": "stream",
     "text": [
      "Epoch 1/5\n",
      "1/1 [==============================] - 1s 545ms/step - loss: 33.2111\n",
      "Epoch 2/5\n",
      "1/1 [==============================] - 0s 6ms/step - loss: 7.4969\n",
      "Epoch 3/5\n",
      "1/1 [==============================] - 0s 9ms/step - loss: 1.8212\n",
      "Epoch 4/5\n",
      "1/1 [==============================] - 0s 11ms/step - loss: 0.5667\n",
      "Epoch 5/5\n",
      "1/1 [==============================] - 0s 6ms/step - loss: 0.2879\n"
     ]
    },
    {
     "data": {
      "text/plain": [
       "<keras.callbacks.History at 0x1b85ec83070>"
      ]
     },
     "execution_count": 33,
     "metadata": {},
     "output_type": "execute_result"
    }
   ],
   "source": [
    "# train the model\n",
    "model.fit(x_train, y_train, epochs=5)"
   ]
  },
  {
   "cell_type": "markdown",
   "metadata": {},
   "source": [
    "Setelah pelatihan Anda selesai, Anda akan melihat bobot model harusnya mendekati rumus $2x + 1$ (angka ini didapatkan dengan menghitung x dan y yang digunakan pada data train)"
   ]
  },
  {
   "cell_type": "code",
   "execution_count": 34,
   "metadata": {},
   "outputs": [
    {
     "data": {
      "text/plain": [
       "[<tf.Variable 'dense/kernel:0' shape=(1, 1) dtype=float32, numpy=array([[2.1045492]], dtype=float32)>,\n",
       " <tf.Variable 'dense/bias:0' shape=(1,) dtype=float32, numpy=array([0.20155114], dtype=float32)>]"
      ]
     },
     "execution_count": 34,
     "metadata": {},
     "output_type": "execute_result"
    }
   ],
   "source": [
    "model.weights"
   ]
  },
  {
   "cell_type": "markdown",
   "metadata": {},
   "source": [
    "**4. Model Evaluation**\n",
    "\n",
    "Dalam contoh sebelumnya kita dapat mengukur kinerja model pada seberapa dekat untuk membuat rumus $2x+1$. Namun pada kenyataannya, kita bahkan tidak tahu rumus untuk data tersebut. Oleh karena itu, kita biasanya mengandalkan kinerja pengujian model. Sama seperti kasus machine learning, kita dapat memanfaatkan data training kemudian membandingkan kinerja training dan kinerja testing untuk membuat kesimpulan."
   ]
  },
  {
   "cell_type": "code",
   "execution_count": 35,
   "metadata": {},
   "outputs": [
    {
     "name": "stdout",
     "output_type": "stream",
     "text": [
      "1/1 [==============================] - 0s 143ms/step\n"
     ]
    },
    {
     "data": {
      "text/plain": [
       "array([[2104.7507]], dtype=float32)"
      ]
     },
     "execution_count": 35,
     "metadata": {},
     "output_type": "execute_result"
    }
   ],
   "source": [
    "# use the model to predict y out of x\n",
    "model.predict([1000])"
   ]
  },
  {
   "cell_type": "code",
   "execution_count": 36,
   "metadata": {},
   "outputs": [
    {
     "name": "stdout",
     "output_type": "stream",
     "text": [
      "1/1 [==============================] - 0s 190ms/step - loss: 71.9561\n"
     ]
    },
    {
     "data": {
      "text/plain": [
       "71.95606994628906"
      ]
     },
     "execution_count": 36,
     "metadata": {},
     "output_type": "execute_result"
    }
   ],
   "source": [
    "model.evaluate(x_test, y_test)"
   ]
  },
  {
   "cell_type": "code",
   "execution_count": 37,
   "metadata": {},
   "outputs": [
    {
     "name": "stdout",
     "output_type": "stream",
     "text": [
      "1/1 [==============================] - 0s 24ms/step - loss: 0.2242\n"
     ]
    },
    {
     "data": {
      "text/plain": [
       "0.22424958646297455"
      ]
     },
     "execution_count": 37,
     "metadata": {},
     "output_type": "execute_result"
    }
   ],
   "source": [
    "model.evaluate(x_train, y_train)"
   ]
  },
  {
   "cell_type": "markdown",
   "metadata": {},
   "source": [
    "Model Overfit dapat terjadi karena:\n",
    "1. Arsitekturnya terlalu rumit\n",
    "2. Epoch, layer, node terlalu banyak\n",
    "3. Datanya tidak seimbang pada label (kasus klasifikasi)"
   ]
  },
  {
   "cell_type": "code",
   "execution_count": null,
   "metadata": {},
   "outputs": [],
   "source": []
  },
  {
   "cell_type": "markdown",
   "metadata": {},
   "source": [
    "## Multi Layer Perceptron\n",
    "\n",
    "Sesuai dengan namanya, arsitektur artificial neural network adalah kumpulan neuron yang saling terhubung dan terdiri dari 3 jenis lapisan :\n",
    "1. Input Layer\n",
    "2. Hidden Layer\n",
    "3. Output Layer\n",
    "\n",
    "Karena arsitekturnya terbentuk dari beberapa lapisan perceptron, beberapa menyebutnya multi-layer perceptron (MLP). Istilah asli deep learning muncul ketika neural network memiliki banyak hidden layer yang membentuk lapisan yang \"deep\". Di bawah ini adalah referensi untuk perbedaan kedua arsitektur tersebut.\n",
    "\n",
    "![image](https://drive.google.com/uc?export=view&id=1QPPMzjirFkxylcWT-HzBfTyC4sJiK_R5)"
   ]
  },
  {
   "cell_type": "markdown",
   "metadata": {},
   "source": [
    "**Implementing Neural Network**\n",
    "\n",
    "*For reading convenience, we separate the steps into*:\n",
    "1. Data Preparation\n",
    "2. Modeling \n",
    "3. Training"
   ]
  },
  {
   "cell_type": "markdown",
   "metadata": {},
   "source": [
    "**1. Data Preparation** \\\n",
    "Data yang digunakan adata data telcochurn pada folder material utama"
   ]
  },
  {
   "cell_type": "code",
   "execution_count": 38,
   "metadata": {},
   "outputs": [],
   "source": [
    "import pandas as pd \n",
    "telco = pd.read_csv('data_input/telcochurn_clean.csv')"
   ]
  },
  {
   "cell_type": "code",
   "execution_count": 39,
   "metadata": {},
   "outputs": [
    {
     "data": {
      "text/plain": [
       "(7043, 22)"
      ]
     },
     "execution_count": 39,
     "metadata": {},
     "output_type": "execute_result"
    }
   ],
   "source": [
    "telco.shape"
   ]
  },
  {
   "cell_type": "markdown",
   "metadata": {},
   "source": [
    "Telcochurn data obtained from [**Kaggle**]('https://www.kaggle.com/blastchar/telco-customer-churn) which is the latest version from IBM: https://community.ibm.com/community/user/businessanalytics/blogs/steven-macko/2019/07/11/telco-customer-churn-1113\n",
    "\n",
    "The data contains 5512 observations with 21 columns. The target variable in this data is Churn, we will predict whether the customer will stop subscribing to the product or will continue to subscribe.\n",
    "\n",
    "The data set includes information about:\n",
    "- `CustomerID`: Customer ID\n",
    "- `Gender`: Gender of customer i.e. (0: Female and 1: Male)\n",
    "- `SeniorCitizen`: Is the customer a senior citizen (0: No, 1: Yes)\n",
    "- `Partner`: Whether the customer has a partner or not (0: No, 1: Yes)\n",
    "- `Dependents`: Whether the customer has dependents or not (0: No, 1: Yes)\n",
    "- `Tenure`: Number of months in using company products\n",
    "- `PhoneService`: Using a phone service or not (0: No, 1: Yes)\n",
    "- `MultipleLines`: Whether the customer has multiple channels or not (Yes: 2, No: 1, No phone service: 0)\n",
    "- `InternetService`: Kind of internet service (0: No, 1: Fiber optic, 2: DSL)\n",
    "- `OnlineSecurity`: Whether the customer has online security or not (0: No, 1: Yes)\n",
    "- `OnlineBackup`: Whether the customer has an online backup or not (0: No, 1: Yes)\n",
    "- `DeviceProtection`: Whether the customer has device protection or not (0: No, 1: Yes)\n",
    "- `TechSupport`: Whether the customer has technical support or not (0: No, 1: Yes)\n",
    "- `StreamingTV`: Whether the subscriber subscribes to streaming TV or not (0: No, 1: Yes)\n",
    "- `StreamingMovies`: Whether subscribers subscribe to streaming movies or not (0: No, 1: Yes)\n",
    "- `Contract`: Terms of subscription contract (0: Month-to-month, 1: One year, 2: Two year)\n",
    "- `PaperlessBilling`: Whether the customer has a paperless bill or not (0: No, 1: Yes)\n",
    "- `PaymentMethod`: Payment methods\n",
    "    - 0: Electronic check, \n",
    "    - 1: Mailed check, \n",
    "    - 2: Bank transfer (automatic),\n",
    "    - 3: Credit card (automatic))\n",
    "- `MonthlyCharges`: Amount of payments made each month\n",
    "- `TotalCharges`: Total amount charged by customer\n",
    "- `Churn`: Whether customer Churn or not (0: No, 1: Yes)"
   ]
  },
  {
   "cell_type": "markdown",
   "metadata": {},
   "source": [
    "Untuk contoh, kita ambil beberapa variable numerik untuk prediksi customer churn."
   ]
  },
  {
   "cell_type": "code",
   "execution_count": 40,
   "metadata": {},
   "outputs": [],
   "source": [
    "# Sample dataset\n",
    "y = telco['Churn']\n",
    "x = telco[['tenure','MonthlyCharges']]"
   ]
  },
  {
   "cell_type": "markdown",
   "metadata": {},
   "source": [
    "## Learning Process in Neural Network\n",
    "\n",
    "Neural Network bekerja dengan mengevaluasi error dan mengupdate nilai bobot/weight. 1 Proses mengevaluasi dan mengupdate bobot disebut dengan 1 step/epoch. 1 step terdiri dari 2 fase:\n",
    "\n",
    "* **Feed Forward** : Memprediksi nilai target (y)\n",
    "* **Back Propagation** : Mengupdate nilai bobot berdasarkan nilai error yang didapatkan\n",
    "\n",
    "![nn works](assets/nn_works.png)\n",
    "\n",
    "1. Membuat weight dan bias secara random\n",
    "\n",
    "Ulangi langkah berikut hingga mencapai konvergen (tidak mengalami penurunan error yang signifikan) atau batas yang ditentukan (jumlah step):\n",
    "\n",
    "2. Feed Forward : Memprediksi nilai target y sesuai dengan bobot yang dimiliki sekarang\n",
    "\n",
    "3. Menghitung nilai error\n",
    "\n",
    "4. Back Propagation : Mencari perubahan bobot yang memberikan error minimum\n",
    "\n",
    "5. Update Bobot sesuai hasil Back Propagation\n",
    "\n",
    "___"
   ]
  },
  {
   "cell_type": "markdown",
   "metadata": {},
   "source": [
    "### Feed Forward\n",
    "\n",
    "Feed forward adalah proses model memprediksi nilai target berdasarkan bobot dan bias yang dimiliki. Pada ilustrasi berikut, amodel akan menerima input dari setiap prediktor/feature yang kemudian akan diolah sesuai dengan bobot dari masing-masing neuron/node ditambah dengan nilai biasnya. \n",
    "\n",
    "- Tanda `S` pada hidden layer dan output layer menunjukkan bahwa terjadi perubahan skala data menjadi 0-1 karena kita menggunakan activation function berupa `Sigmoid Function`.\n",
    "\n",
    "![feed forward](assets/forward.gif)"
   ]
  },
  {
   "cell_type": "markdown",
   "metadata": {},
   "source": [
    "### Activation Functions\n",
    "\n",
    "**Activation Function** berfungsi untuk mentransformasi input sebelum diteruskan ke layer selanjutnya sesuai dengan kebutuhan. Istilah activation function terinspirasi dari cara otak bekerja dengan mengaktifkan atau menonaktifkan sel syaraf. Hal ini bermanfaat agar:\n",
    "\n",
    "* nilai yang diteruskan sudah dalam bentuk sepatutnya (misal output klasifikasi berupa peluang: 0~1)\n",
    "* menjaga agar nilai yang diteruskan ke node-node selanjutnya tidak semakin besar dan memperberat komputasi.\n",
    "\n",
    "💡 Beberapa jenis activation function:\n",
    "\n",
    "- Linier\n",
    "    + jenis default perhitungan linier \n",
    "    \n",
    "- Tanh\n",
    "    + (Hyperbolic tangent) : digunakan pada hidden layer\n",
    "    + Alternatif untuk sigmoid. Skala output yang dihasilkan adalah -1 hingga 1 (zero centered).\n",
    "    + dapat digunakan ketika nilai input banyak nilai minusnya\n",
    "\n",
    "- Rectified Linear unit (ReLU)\n",
    "    + Biasa digunakan di hidden layer. bagus untuk kasus image (range 0 ~ inf)\n",
    "    + Jika nilai inputnya kurang dari 0 (negatif), maka diubah menjadi 0.\n",
    "\n",
    "- Logistic (sigmoid)\n",
    "    + Cocok di output dan untuk kasus klasifikasi (biner) (range 0 ~ 1).\n",
    "    + Mengkonversi nilai numerik menjadi skala 0-1, sehingga cocok untuk klasifikasi 2 kelas.  \n",
    "\n",
    "- Softmax\n",
    "    + Biasa digunakan di output layer untuk kasus klasifikasi (multiclass) (range 0 ~ 1)\n",
    "    + Sama seperti dengan sigmoid, hanya saja dapat menerima lebih dari 2 kelas (multiclass). Softmax akan memastikan bahwa output dari sebuah vektor adalah distribusi peluang yang jika ditotal semuanya adalah 1. Misalkan untuk klasifikasi dengan 3 kelas (high, low, normal) maka peluang dari masing-masing kelas saat ditotal adalah 1.\n",
    "\n",
    "\n",
    "<img src=\"https://drive.google.com/uc?export=view&id=1KAcL458IRdWsMYfTSZRA6K61zAhrAeY9\" width=\"80%\">"
   ]
  },
  {
   "cell_type": "markdown",
   "metadata": {},
   "source": [
    "#### 🔎 Knowledge Check Activation Function\n",
    "\n",
    "- ❓Apa activation function yang cocok untuk kasus regresi dengan target variabel numerik?\n",
    "\n",
    "> `activation_function='linear'`\n",
    "\n",
    "- ❓Apa activation function yang cocok untuk kasus klasifikasi dengan target variabel adalah kategori dengan 5 kelas?\n",
    "\n",
    "> `activation_function='softmax'`\n",
    "\n"
   ]
  },
  {
   "cell_type": "markdown",
   "metadata": {},
   "source": [
    "### Loss Function / Cost Function (Error)\n",
    "\n",
    "Loss function digunakan untuk pedoman belajar dari model Neural Network. Loss function untuk setiap jenis permasalahan bisa berbeda-beda. Dokumentasi dapat dilihat pada: https://keras.io/api/losses/\n",
    "\n",
    "Memilih Loss Function yang tepat untuk problem yang tepat sangatlah penting: Neural Network akan mengambil jalan pintas apa pun yang dapat dilakukan untuk meminimalkan kerugian. Loss function, yang dapat digunakan untuk mengestimasi kerugian model sehingga bobot dapat diperbarui untuk mengurangi kerugian pada evaluasi berikutnya.\n",
    "\n",
    "* Regresi\n",
    "\n",
    "    + Pada kasus regresi (target variabel numerik), loss yang biasa digunakan adalah:\n",
    "        - **MSE atau Mean Squared Error**. \n",
    "            + Seperti namanya, kerugian ini dihitung dengan mengambil rata-rata perbedaan kuadrat antara nilai aktual (target) dan prediksi. Pengkuadratan berarti bahwa kesalahan yang lebih besar menghasilkan lebih banyak kesalahan daripada kesalahan yang lebih kecil, artinya model dihukum karena membuat kesalahan yang lebih besar.\n",
    "            + Setting parameter: `<model>.compile(loss='mean_squared_error')`\n",
    "        - **MSLE atau Mean Squared Logarithmic Error**\n",
    "            + Kerugian ini akan melonggarkan efek hukuman dari berbedaan nilai yang signifikan dari prediksi.  \n",
    "            + Setting parameter: `<model>.compile(loss='mean_squared_logarithmic_error')`\n",
    "\n",
    "        - **MAE atau Mean Absolute Error**\n",
    "            + Kerugian ini dihitung sebagai rata-rata perbedaan absolut antara nilai aktual dan prediksi. Cocok digunakan untuk data yang memiliki banyak outlier. \n",
    "            + Setting parameter: `<model>.compile(loss='mean_absolute_error')`\n",
    "\n",
    "* Klasifikasi\n",
    "\n",
    "    + Untuk kasus klasifikasi dengan target diskrit berupa kategorikal, loss yang biasa digunakan adalah:\n",
    "        - **Binary Cross Entropy**. \n",
    "            + Cross-entropy adalah fungsi loss default yang digunakan untuk masalah klasifikasi biner atau 2 kelas target. Biner di mana nilai target berada di set {0, 1}\n",
    "            + BCE akan menjumlahkan nilai selisih probability rata-rata antara aktual dengan prediksi untuk memprediksi kelas target 1. \n",
    "            + Setting parameter: `<model>.compile(loss='binary_crossentropy')`\n",
    "        - **Sparse Categorical Cross Entropy**. \n",
    "            + Digunakan untuk klasifikasi multi-kelas, dimana nilai targetnya akan diberi label {0,1,2,3,...,n}\n",
    "            + SCCE akan menjumlahkan nilai selisih probability rata-rata antara aktual dengan prediksi dalam memprediksi semua kelas target.\n",
    "            + Setting parameter: `<model>.compile(loss='sparse_categorical_crossentropy')` , dengan syarat jumlah node output sama dengan jumlah kelas\n",
    "        - **Categorical Cross Entropy**. \n",
    "            + Tujuan dan cara perhitungannya sama seperti SCCE namum dalam praktik penggunaannya target yang digunakan perlu dilakukan one-hot encoding\n",
    "            + Setting parameter: `<model>.compile(loss='categorical_crossentropy')` , dengan syarat jumlah node output sama dengan jumlah kelas"
   ]
  },
  {
   "cell_type": "markdown",
   "metadata": {},
   "source": [
    "#### 🔎 Knowledge Check Activation Function and Loss Function:\n",
    "\n",
    "- ❓Apabila kita ingin memprediksi tingkat kepuasan suatu pelanggan yang mana ada 3 parameter yaitu: tidak puas, biasa saja, puas; jenis activation function dan loss function apa yang cocok digunakan?\n",
    "\n",
    "> `activation_function='softmax'`\n",
    "\n",
    "> `loss='categorical_crossentropy'`"
   ]
  },
  {
   "cell_type": "markdown",
   "metadata": {},
   "source": [
    "**2. Modeling** \\\n",
    "To save you some times on building neural network model, here is the example on how to build one:"
   ]
  },
  {
   "cell_type": "code",
   "execution_count": 41,
   "metadata": {},
   "outputs": [],
   "source": [
    "# Code for basic neural network in predicting customer churn \n",
    "\n",
    "# Model Initialization \n",
    "model_nn = keras.Sequential()\n",
    "\n",
    "# Add input layer\n",
    "model_nn.add(keras.layers.InputLayer(input_shape = 2))\n",
    "\n",
    "# Add hidden layer\n",
    "model_nn.add(keras.layers.Dense(units=10))\n",
    "\n",
    "# Add output layer\n",
    "model_nn.add(keras.layers.Dense(units=1, activation='sigmoid'))\n",
    "\n",
    "# Model compile\n",
    "model_nn.compile(optimizer='adam', \n",
    "                 loss='binary_crossentropy', \n",
    "                 metrics = [tf.keras.metrics.Recall(thresholds=0.45, name='recall')])"
   ]
  },
  {
   "cell_type": "markdown",
   "metadata": {},
   "source": [
    "Cek summary model."
   ]
  },
  {
   "cell_type": "code",
   "execution_count": 42,
   "metadata": {},
   "outputs": [
    {
     "name": "stdout",
     "output_type": "stream",
     "text": [
      "Model: \"sequential_1\"\n",
      "_________________________________________________________________\n",
      " Layer (type)                Output Shape              Param #   \n",
      "=================================================================\n",
      " dense_1 (Dense)             (None, 10)                30        \n",
      "                                                                 \n",
      " dense_2 (Dense)             (None, 1)                 11        \n",
      "                                                                 \n",
      "=================================================================\n",
      "Total params: 41\n",
      "Trainable params: 41\n",
      "Non-trainable params: 0\n",
      "_________________________________________________________________\n"
     ]
    }
   ],
   "source": [
    "# Show model summary\n",
    "model_nn.summary()"
   ]
  },
  {
   "cell_type": "markdown",
   "metadata": {},
   "source": [
    "**3. Model Training**"
   ]
  },
  {
   "cell_type": "code",
   "execution_count": 43,
   "metadata": {},
   "outputs": [
    {
     "name": "stdout",
     "output_type": "stream",
     "text": [
      "Epoch 1/10\n",
      "177/177 [==============================] - 2s 5ms/step - loss: 4.7711 - recall: 0.4220 - val_loss: 0.4828 - val_recall: 0.6194\n",
      "Epoch 2/10\n",
      "177/177 [==============================] - 1s 4ms/step - loss: 0.4774 - recall: 0.6022 - val_loss: 0.4795 - val_recall: 0.5932\n",
      "Epoch 3/10\n",
      "177/177 [==============================] - 1s 3ms/step - loss: 0.4742 - recall: 0.5820 - val_loss: 0.4934 - val_recall: 0.4462\n",
      "Epoch 4/10\n",
      "177/177 [==============================] - 1s 3ms/step - loss: 0.4742 - recall: 0.5470 - val_loss: 0.4817 - val_recall: 0.6562\n",
      "Epoch 5/10\n",
      "177/177 [==============================] - 1s 3ms/step - loss: 0.4689 - recall: 0.5349 - val_loss: 0.4801 - val_recall: 0.4724\n",
      "Epoch 6/10\n",
      "177/177 [==============================] - 1s 3ms/step - loss: 0.4677 - recall: 0.5390 - val_loss: 0.4700 - val_recall: 0.5249\n",
      "Epoch 7/10\n",
      "177/177 [==============================] - 1s 3ms/step - loss: 0.4633 - recall: 0.5215 - val_loss: 0.4681 - val_recall: 0.5302\n",
      "Epoch 8/10\n",
      "177/177 [==============================] - 1s 3ms/step - loss: 0.4676 - recall: 0.5141 - val_loss: 0.4963 - val_recall: 0.6850\n",
      "Epoch 9/10\n",
      "177/177 [==============================] - 1s 3ms/step - loss: 0.4716 - recall: 0.5181 - val_loss: 0.5084 - val_recall: 0.2756\n",
      "Epoch 10/10\n",
      "177/177 [==============================] - 1s 3ms/step - loss: 0.4678 - recall: 0.4946 - val_loss: 0.4700 - val_recall: 0.6220\n"
     ]
    },
    {
     "data": {
      "text/plain": [
       "<keras.callbacks.History at 0x1b85feb0f10>"
      ]
     },
     "execution_count": 43,
     "metadata": {},
     "output_type": "execute_result"
    }
   ],
   "source": [
    "# Model Train\n",
    "model_nn.fit(x, y, validation_split=0.2, epochs=10)"
   ]
  },
  {
   "cell_type": "markdown",
   "metadata": {},
   "source": [
    "### Back Propagation\n",
    "\n",
    "Back Propagation adalah proses mengupdate bobot berdasarkan informasi yang didapatkan dari error hasil prediksi. Informasi yang dicari adalah informasi tentang nilai update yang optimal dengan menggunakan nilai gradient, sehingga metodenya disebut dengan *Gradient Descent*. Untuk mengatur seberapa cepat dan detail model belajar, nilai *Learning Rate* dapat diatur. Semakin kecil learning rate, semakin detail model belajar. Nilai yang biasa digunakan untuk Learning Rate adalah 0.01."
   ]
  },
  {
   "cell_type": "markdown",
   "metadata": {},
   "source": [
    "Contoh tahapan Gradient Descent untuk suatu bobot:\n",
    "\n",
    "- Memplotkan kurva perubahan loss function (error) terhadap bobot\n",
    "- Menghitung gradient (kemiringan/garis singgung) dari bobot awal (yang sedang digunakan) dengan mencari turunan parsialnya (kalkulasi kalkulus)\n",
    "- Mendapatkan nilai gradient dan mengubah bobot berdasarkan rule (lihat gambar):\n",
    "    + nilai positif: bobot perlu dikurangi\n",
    "    + nilai negatif: bobot perlu ditambah\n",
    "![sgd](assets/sgd.gif)\n",
    "\n",
    "Gradient Descent akan membuat model belajar mencari nilai dari masing-masing bobot yang tepat sehingga mendapatkan loss yang semakin kecil. \n",
    "\n",
    "Besar penambahan/penurunan bobot adalah `bobot awal - (gradient x learning rate)`. **Learning rate** adalah seberapa cepat model melakukan update bobot (range: 0 ~ 1):\n",
    "\n",
    "- learning rate rendah:\n",
    "     + membuat model mengupdate bobot sedikit demi sedikit\n",
    "     + waktu untuk mencapai titik lokal optimum dari bobot akan lebih lama\n",
    "     + Namun, jika model sudah menyentuh **local optima** atau titik terendah di antara dua area yang lebih tinggi errornya, model akan sulit untuk lepas dari area tersebut sehingga terdapat kemungkinan juga model tidak bisa mendapatkan **global optima** atau error yang paling rendah.\n",
    "- learning rate tinggi:\n",
    "     + membuat model belajar lebih cepat dengan jumlah step yang lebih sedikit\n",
    "     + kemungkinan besar akan melewatkan titik terendahnya sehingga tidak bisa mencapai nilai error yang optimal.\n",
    "- Pemilihan learning rate adalah salah satu hal yang penting dalam membuat Neural Network.\n",
    "\n",
    "![learning rate](assets/learning_rate.jpg)\n",
    "\n",
    "Apabila tertarik dengan matematika di balik *Gradient Descent*, dapat mengunjungi:\n",
    "- https://ruder.io/optimizing-gradient-descent/\n",
    "- https://jermwatt.github.io/machine_learning_refined/notes/3_First_order_methods/3_6_Descent.html\n",
    "\n",
    "Beberapa gradient descent optimizer: \n",
    "- Vanilla Gradient Descent : Known as the original gradient descent using first order optimization \n",
    "- Stochastic Gradient Descent(SGD) : Just like Vanilla Gradient Descent, but works stochastically (one data per update). \n",
    "- Adaptive Moment (Adam): [original paper](https://arxiv.org/pdf/1412.6980.pdf)"
   ]
  },
  {
   "cell_type": "markdown",
   "metadata": {},
   "source": [
    "term epoch di keras, artinya 1 proses feedforward + 1 proses backpropagation **dalam seluruh data input**"
   ]
  },
  {
   "cell_type": "markdown",
   "metadata": {},
   "source": [
    "### Hyperparameter Tuning\n",
    "\n",
    "**Learning Rate**\\\n",
    "Learning Rate mempengaruhi seberapa cepat model akan belajar. Tingkat pembelajaran yang besar mungkin menghasilkan waktu yang lebih cepat untuk konvergen tetapi meningkatkan risiko terjebak dalam local optima.\n",
    "\n",
    "**Epoch** \\\n",
    "Epoch yang besar akan memberikan model kesempatan untuk mempelajari data lebih banyak, diharapkan menghasilkan kinerja yang lebih baik dari waktu ke waktu. Namun, model mungkin terkena masalah overfit.\n",
    "\n",
    "### Batch Learning\n",
    "\n",
    "Batch adalah sekelompok sampel yang diproses bersama dengan menggunakan metode optimisasi Stochastic Gradient Descent/ Mini Batch Gradient Descent\n",
    "\n",
    "Training menggunakan full batch akan menggunakan seluruh set pelatihan untuk satu update, sementara partial batch learning akan mengevaluasi dan memperbarui untuk setiap batch yang dimilikinya di setiap epoch.\n",
    "\n",
    "Semakin besar ukuran batch, semakin banyak memori yang dibutuhkan untuk melakukan satu siklus pembelajaran (feed forward + backpropagation) tetapi waktu pembelajaran lebih cepat. Disarankan untuk menjaga agar batch tetap rendah untuk mencegah kegagalan model saat memprediksi data.\n",
    "\n",
    "You can set the batch size using `batch_size` parameters on `model.fit()`, for example :\n",
    "\n",
    "```python\n",
    "model.fit(x_train, y_train, epochs=10, batch_size = 30)\n",
    "```\n",
    "\n",
    "**Batch**\n",
    "\n",
    "- Pada proses training, kita bisa membagi data yang ingin di training yang diambil secara *random* sesuai dengan batch\n",
    "- Model akan melakukan training menggunakan data pada batch 1 terlebih dahulu, kemudian batch ke-2, dan seterusnya hingga digunakan semua data --> 1 epoch\n",
    "- Karena model itu dapat ditraining dengan epoch lebih dari 1, yang artinya akan melakukan pembagian batch dengan random yang berbeda dari sebelumnya\n",
    "- Pada setiap step/epoch --> error dan metrics model diupdate\n",
    "\n",
    "**Hal yang perlu diperhatikan**\n",
    "1. Semakin banyak batch (ukuran batch) \n",
    "    - Prosesnya akan semakin lama karena proses optimasi model semakin banyak\n",
    "    - Namun bisa mencegah beban komputasi yang besar di satu waktu sekaligus\n",
    "2. Semakin banyak epoch:\n",
    "    - Erronya semakin kecil\n",
    "    - Prosesnya semakin lama\n",
    "    - Rentan overfit (keadaan dimana nilai train lebih bagus daripada test/validation)\n",
    "    - Biasanya untuk menentukan epoch diawal bisa menggunakan 10/15"
   ]
  },
  {
   "cell_type": "markdown",
   "metadata": {},
   "source": [
    "#### [Optional] Contoh perhitungan update bobot\n",
    "\n",
    "Misalkan kita punya fungsi berikut dari sebuah model:\n",
    "\n",
    "$$\n",
    "f(x) = x^2\n",
    "$$\n",
    "\n",
    "Gradient Descent menggunakan konsep turunan/derivatif untuk mencari nilai error yang optimal. Maka, kita bisa menurunkan fungsi di atas menjadi sebagai berikut:\n",
    "\n",
    "$$\n",
    "f'(x) = 2x\n",
    "$$\n",
    "\n",
    "Untuk mengupdate bobot barunya, kita mengatur seberapa besar perubahan bobotnya menggunakan **learning rate** ($\\alpha$):\n",
    "\n",
    "$$ x\\ baru = x\\ - \\alpha\\ 2 x$$\n",
    "\n",
    "Misal bobot yang sekarang adalah 4 dan learning rate = 0.1\n",
    "\n",
    "$$bobot\\ baru = 4 - 0.1\\times 2\\times 4 = 3.2$$\n",
    "\n",
    "Jika learning rate semakin kecil, perubahan bobotnya juga akan semakin kecil juga, contohnya dengan learning rate = 0.01\n",
    "\n",
    "$$bobot\\ baru = 4 - 0.01\\times 2\\times 4 = 3.92$$"
   ]
  },
  {
   "cell_type": "markdown",
   "metadata": {},
   "source": [
    "___\n",
    "\n",
    "### Regularization [Optional] \n",
    "\n",
    "Ide dari regularisasi adalah untuk membuat model tidak terlalu overfit dengan membuatnya lebih \"reguler\" untuk mempelajari distribusi data umum. Ada banyak cara untuk melakukan regularisasi, tetapi kita hanya membahas 3 teknik yang paling sering digunakan : L1, L2, dan menggunakan dropout untuk regularisasi. Ketiga teknik ini bisa **diimplementasikan pada setiap layer**\n",
    "\n",
    "**L1 Regularization**\n",
    "\n",
    "Menggunakan regularisasi l1, kami akan menghilangkan kekuatan kontribusi dari setiap bobot $w$ dengan menambahkan lebih banyak metrik kesalahan yang memiliki dampak langsung dari bobot $w$ per se. Untuk intuisi, misalkan kita menggunakan Sum Squared Error sebagai fungsi kerugian,\n",
    "\n",
    "$\\text{loss function} =  \\sum_{i=1}^{n} (\\hat{y} - \\sum_{j=1}^{p} w_{j} x_{ij})^2 $\n",
    "\n",
    "\n",
    "Dari fungsi SSE di atas, kita dapat menambahkan persamaan berikut nilai norma pertama untuk setiap bobot untuk meningkatkan kesalahan dan mempersulit proses pembelajaran model.\n",
    "\n",
    "\n",
    "$$ \\sum_{i=1}^{n} (\\hat{y} - \\sum_{j=1}^{p} w_{j} x_{ij})^2 + \\lambda \\sum_{j=1}^{p} ||w_{j}||$$\n",
    "\n",
    "\n",
    "\n",
    "Jika kita perhatikan, setelah $\\lambda$ disetel ke $0$, regularisasi tidak akan berpengaruh. Semakin besar nilainya, semakin sulit model akan belajar.\n",
    "\n",
    "\n",
    "**L2 Regularization**\n",
    "\n",
    "Ide regularisasi L2 hampir sama dengan Regularizaton L1. Satu-satunya perbedaan adalah bahwa L2 menggunakan nilai kuadrat dari bobot untuk mengatur ulang model\n",
    "\n",
    "\n",
    "$$ \\sum_{i=1}^{n} (\\hat{y} - \\sum_{j=1}^{p} w_{j} x_{ij})^2 + \\lambda \\sum_{j=1}^{p} w^2_{j}$$\n",
    "\n",
    "\n",
    "\n",
    "**Dropout Layer**\n",
    "\n",
    "Lapisan dropout akan bekerja langsung pada neuron di setiap lapisan dengan menonaktifkan secara acak (menetapkan bobot ke 0) untuk setiap iterasi. Ini adalah metode yang lebih stokastik tetapi terbukti berfungsi pada sebagian besar arsitektur jaringan saraf. Berikut adalah ilustrasi bagaimana dropout layer mempengaruhi model :\n",
    "\n",
    "\n",
    "\n",
    "\n",
    "\n",
    "\n",
    "<figure>\n",
    "    <center>\n",
    "    <img src=\"https://drive.google.com/uc?export=view&id=16C-rg-3XzqBw0HnwhY-fB29Es_GSuW8h\" width=\"50%\">\n",
    "<!--     <figcaption> Fig.x - Dropout Illustration</figcaption> -->\n",
    "    </center>\n",
    "</figure>\n",
    "\n",
    "\n",
    "Tiga contoh sebelumnya adalah cara paling umum untuk melakukan regularisasi. Langkah selanjutnya adalah mengimplementasikan regularisasi ke dalam model kita.\n",
    "\n",
    "Untuk regulizer l1 dan l2, kita harus mendefinisikan fungsi regularisasi tertentu yang dapat diinstansiasi dari modul keras.regulizers. Kode berikut akan membuat fungsi regularisasi l1 dan l2 tertentu. Perhatikan bahwa Anda dapat membuat pengatur sebanyak yang Anda inginkan\n",
    "\n"
   ]
  },
  {
   "cell_type": "markdown",
   "metadata": {},
   "source": [
    "Contoh implementasi regularisasi dan dropout pada keras"
   ]
  },
  {
   "cell_type": "code",
   "execution_count": 44,
   "metadata": {},
   "outputs": [],
   "source": [
    "# Create regularization function that will be applied on the model \n",
    "l1_reg = keras.regularizers.l1(l1=0.01) # l1 will determine how strong the regularization effect will be \n",
    "l2_reg = keras.regularizers.l2(l2=0.01) # l1 will determine how strong the regularization effect will be "
   ]
  },
  {
   "cell_type": "code",
   "execution_count": 46,
   "metadata": {},
   "outputs": [],
   "source": [
    "# Code for basic neural network in predicting customer churn \n",
    "\n",
    "# Model Initialization \n",
    "model_nn = keras.Sequential()\n",
    "\n",
    "# Add input layer\n",
    "model_nn.add(keras.layers.InputLayer(input_shape = 2))\n",
    "\n",
    "# Regularized layer using L1 or L2\n",
    "model_nn.add(keras.layers.Dense(units=32, kernel_regularizer = l1_reg)) # Add l1 / L2  regularization function\n",
    "\n",
    "# Dropout layer that will affect hidden layer 2\n",
    "model_nn.add(keras.layers.Dense(units=16, activation='relu'))\n",
    "model_nn.add(keras.layers.Dropout(0.2)) # The dropout layer should be place directly after the layer\n",
    "\n",
    "# Add hidden layer\n",
    "model_nn.add(keras.layers.Dense(units=10))\n",
    "\n",
    "# Add output layer\n",
    "model_nn.add(keras.layers.Dense(units=1, activation='sigmoid'))\n",
    "\n",
    "# Model compile\n",
    "model_nn.compile(optimizer='adam', \n",
    "                 loss='binary_crossentropy', \n",
    "                 metrics = [tf.keras.metrics.Recall(thresholds=0.45, name='recall')])"
   ]
  }
 ],
 "metadata": {
  "kernelspec": {
   "display_name": "dss_rnn",
   "language": "python",
   "name": "dss_rnn"
  },
  "language_info": {
   "codemirror_mode": {
    "name": "ipython",
    "version": 3
   },
   "file_extension": ".py",
   "mimetype": "text/x-python",
   "name": "python",
   "nbconvert_exporter": "python",
   "pygments_lexer": "ipython3",
   "version": "3.9.13"
  },
  "toc": {
   "base_numbering": 1,
   "nav_menu": {},
   "number_sections": true,
   "sideBar": true,
   "skip_h1_title": false,
   "title_cell": "Table of Contents",
   "title_sidebar": "Contents",
   "toc_cell": false,
   "toc_position": {},
   "toc_section_display": true,
   "toc_window_display": false
  }
 },
 "nbformat": 4,
 "nbformat_minor": 4
}
